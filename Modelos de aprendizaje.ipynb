{
 "cells": [
  {
   "cell_type": "markdown",
   "id": "2b79efef",
   "metadata": {},
   "source": [
    "### Estructura del notebook\n",
    "\n",
    "1. Introducción de librerias a utilizar y presentación inicial de los conjuntos de datos.\n",
    "2. Respuesta a las preguntas 1 a 3. \n",
    "3. Analisis exploratorio del conjunto de datos Occupancy Detection (después de responder las primeras cuatro preguntas se llegó a la conclusión de que el conjunto de datos que podía garantizar generalización era el de Occupancy Detection por lo tanto es el enfoque del notebook y el unico que va a ser utilizado para continuar con las demás preguntas). \n",
    "4. Respuesta a las preguntas 4 a 6.\n",
    "5. Aplicación del mismo problema usando Regresión logistica y Arboles de decisión. "
   ]
  },
  {
   "cell_type": "markdown",
   "id": "504623ba",
   "metadata": {},
   "source": [
    "### Introducción"
   ]
  },
  {
   "cell_type": "code",
   "execution_count": 1,
   "id": "a87e03d6",
   "metadata": {},
   "outputs": [],
   "source": [
    "import pandas as pd\n",
    "import numpy as np\n",
    "import sklearn\n",
    "\n",
    "from sklearn.preprocessing import MinMaxScaler\n",
    "from sklearn.model_selection import train_test_split\n",
    "from sklearn.linear_model import Perceptron\n",
    "from scipy import stats\n",
    "from sklearn.metrics import accuracy_score\n",
    "from sklearn import datasets\n",
    "\n",
    "# Primer dataset - Banknote authentication Data Set \n",
    "dfbn = pd.read_csv('data_banknote_authentication.txt', header=None, names = ['variance', 'skewness', 'curtosis', 'entropy', \n",
    "                                                                            'class'])\n",
    "\n",
    "# Segundo dataset - Occupancy Detection Data Set\n",
    "dfod_train = pd.read_csv('datatraining.txt', parse_dates = ['date'])\n",
    "dfod_val = pd.read_csv('datatest.txt', parse_dates = ['date'])\n",
    "dfod_test = pd.read_csv('datatest2.txt', parse_dates = ['date'])"
   ]
  },
  {
   "cell_type": "code",
   "execution_count": 2,
   "id": "4b8b6778",
   "metadata": {
    "scrolled": true
   },
   "outputs": [
    {
     "data": {
      "text/html": [
       "<div>\n",
       "<style scoped>\n",
       "    .dataframe tbody tr th:only-of-type {\n",
       "        vertical-align: middle;\n",
       "    }\n",
       "\n",
       "    .dataframe tbody tr th {\n",
       "        vertical-align: top;\n",
       "    }\n",
       "\n",
       "    .dataframe thead th {\n",
       "        text-align: right;\n",
       "    }\n",
       "</style>\n",
       "<table border=\"1\" class=\"dataframe\">\n",
       "  <thead>\n",
       "    <tr style=\"text-align: right;\">\n",
       "      <th></th>\n",
       "      <th>variance</th>\n",
       "      <th>skewness</th>\n",
       "      <th>curtosis</th>\n",
       "      <th>entropy</th>\n",
       "      <th>class</th>\n",
       "    </tr>\n",
       "  </thead>\n",
       "  <tbody>\n",
       "    <tr>\n",
       "      <th>0</th>\n",
       "      <td>3.62160</td>\n",
       "      <td>8.6661</td>\n",
       "      <td>-2.8073</td>\n",
       "      <td>-0.44699</td>\n",
       "      <td>0</td>\n",
       "    </tr>\n",
       "    <tr>\n",
       "      <th>1</th>\n",
       "      <td>4.54590</td>\n",
       "      <td>8.1674</td>\n",
       "      <td>-2.4586</td>\n",
       "      <td>-1.46210</td>\n",
       "      <td>0</td>\n",
       "    </tr>\n",
       "    <tr>\n",
       "      <th>2</th>\n",
       "      <td>3.86600</td>\n",
       "      <td>-2.6383</td>\n",
       "      <td>1.9242</td>\n",
       "      <td>0.10645</td>\n",
       "      <td>0</td>\n",
       "    </tr>\n",
       "    <tr>\n",
       "      <th>3</th>\n",
       "      <td>3.45660</td>\n",
       "      <td>9.5228</td>\n",
       "      <td>-4.0112</td>\n",
       "      <td>-3.59440</td>\n",
       "      <td>0</td>\n",
       "    </tr>\n",
       "    <tr>\n",
       "      <th>4</th>\n",
       "      <td>0.32924</td>\n",
       "      <td>-4.4552</td>\n",
       "      <td>4.5718</td>\n",
       "      <td>-0.98880</td>\n",
       "      <td>0</td>\n",
       "    </tr>\n",
       "  </tbody>\n",
       "</table>\n",
       "</div>"
      ],
      "text/plain": [
       "   variance  skewness  curtosis  entropy  class\n",
       "0   3.62160    8.6661   -2.8073 -0.44699      0\n",
       "1   4.54590    8.1674   -2.4586 -1.46210      0\n",
       "2   3.86600   -2.6383    1.9242  0.10645      0\n",
       "3   3.45660    9.5228   -4.0112 -3.59440      0\n",
       "4   0.32924   -4.4552    4.5718 -0.98880      0"
      ]
     },
     "execution_count": 2,
     "metadata": {},
     "output_type": "execute_result"
    }
   ],
   "source": [
    "dfbn.head()"
   ]
  },
  {
   "cell_type": "code",
   "execution_count": 3,
   "id": "6135a56b",
   "metadata": {},
   "outputs": [
    {
     "data": {
      "text/html": [
       "<div>\n",
       "<style scoped>\n",
       "    .dataframe tbody tr th:only-of-type {\n",
       "        vertical-align: middle;\n",
       "    }\n",
       "\n",
       "    .dataframe tbody tr th {\n",
       "        vertical-align: top;\n",
       "    }\n",
       "\n",
       "    .dataframe thead th {\n",
       "        text-align: right;\n",
       "    }\n",
       "</style>\n",
       "<table border=\"1\" class=\"dataframe\">\n",
       "  <thead>\n",
       "    <tr style=\"text-align: right;\">\n",
       "      <th></th>\n",
       "      <th>date</th>\n",
       "      <th>Temperature</th>\n",
       "      <th>Humidity</th>\n",
       "      <th>Light</th>\n",
       "      <th>CO2</th>\n",
       "      <th>HumidityRatio</th>\n",
       "      <th>Occupancy</th>\n",
       "    </tr>\n",
       "  </thead>\n",
       "  <tbody>\n",
       "    <tr>\n",
       "      <th>1</th>\n",
       "      <td>2015-02-04 17:51:00</td>\n",
       "      <td>23.18</td>\n",
       "      <td>27.2720</td>\n",
       "      <td>426.0</td>\n",
       "      <td>721.25</td>\n",
       "      <td>0.004793</td>\n",
       "      <td>1</td>\n",
       "    </tr>\n",
       "    <tr>\n",
       "      <th>2</th>\n",
       "      <td>2015-02-04 17:51:59</td>\n",
       "      <td>23.15</td>\n",
       "      <td>27.2675</td>\n",
       "      <td>429.5</td>\n",
       "      <td>714.00</td>\n",
       "      <td>0.004783</td>\n",
       "      <td>1</td>\n",
       "    </tr>\n",
       "    <tr>\n",
       "      <th>3</th>\n",
       "      <td>2015-02-04 17:53:00</td>\n",
       "      <td>23.15</td>\n",
       "      <td>27.2450</td>\n",
       "      <td>426.0</td>\n",
       "      <td>713.50</td>\n",
       "      <td>0.004779</td>\n",
       "      <td>1</td>\n",
       "    </tr>\n",
       "    <tr>\n",
       "      <th>4</th>\n",
       "      <td>2015-02-04 17:54:00</td>\n",
       "      <td>23.15</td>\n",
       "      <td>27.2000</td>\n",
       "      <td>426.0</td>\n",
       "      <td>708.25</td>\n",
       "      <td>0.004772</td>\n",
       "      <td>1</td>\n",
       "    </tr>\n",
       "    <tr>\n",
       "      <th>5</th>\n",
       "      <td>2015-02-04 17:55:00</td>\n",
       "      <td>23.10</td>\n",
       "      <td>27.2000</td>\n",
       "      <td>426.0</td>\n",
       "      <td>704.50</td>\n",
       "      <td>0.004757</td>\n",
       "      <td>1</td>\n",
       "    </tr>\n",
       "  </tbody>\n",
       "</table>\n",
       "</div>"
      ],
      "text/plain": [
       "                 date  Temperature  Humidity  Light     CO2  HumidityRatio  \\\n",
       "1 2015-02-04 17:51:00        23.18   27.2720  426.0  721.25       0.004793   \n",
       "2 2015-02-04 17:51:59        23.15   27.2675  429.5  714.00       0.004783   \n",
       "3 2015-02-04 17:53:00        23.15   27.2450  426.0  713.50       0.004779   \n",
       "4 2015-02-04 17:54:00        23.15   27.2000  426.0  708.25       0.004772   \n",
       "5 2015-02-04 17:55:00        23.10   27.2000  426.0  704.50       0.004757   \n",
       "\n",
       "   Occupancy  \n",
       "1          1  \n",
       "2          1  \n",
       "3          1  \n",
       "4          1  \n",
       "5          1  "
      ]
     },
     "execution_count": 3,
     "metadata": {},
     "output_type": "execute_result"
    }
   ],
   "source": [
    "dfod_train.head()"
   ]
  },
  {
   "cell_type": "markdown",
   "id": "d11deb6f",
   "metadata": {},
   "source": [
    "### Analisis exploratorio del conjunto de datos Banknote authentication"
   ]
  },
  {
   "cell_type": "markdown",
   "id": "c1419220",
   "metadata": {},
   "source": [
    "Revisión de que tan balanceada estan las clases para este conjunto de datos"
   ]
  },
  {
   "cell_type": "code",
   "execution_count": 4,
   "id": "30ec015b",
   "metadata": {},
   "outputs": [],
   "source": [
    "# Renombrando las clases\n",
    "dfbn['class'] = dfbn['class'].replace({0: 'no authentic', 1: 'authentic'})"
   ]
  },
  {
   "cell_type": "code",
   "execution_count": 5,
   "id": "2984a628",
   "metadata": {},
   "outputs": [
    {
     "data": {
      "text/plain": [
       "Text(0, 0.5, 'Cantidad')"
      ]
     },
     "execution_count": 5,
     "metadata": {},
     "output_type": "execute_result"
    },
    {
     "data": {
      "image/png": "[encoded data removed]",
      "text/plain": [
       "<Figure size 640x480 with 1 Axes>"
      ]
     },
     "metadata": {},
     "output_type": "display_data"
    }
   ],
   "source": [
    "import seaborn as sns\n",
    "import matplotlib.pyplot as plt\n",
    "sns.countplot(data=dfbn,x='class')\n",
    "plt.title(\"Conteo de clases\")\n",
    "plt.xlabel('Clase')\n",
    "plt.ylabel('Cantidad')"
   ]
  },
  {
   "cell_type": "markdown",
   "id": "c7e503c8",
   "metadata": {},
   "source": [
    "Ambas clases tienen un recuento parecido, por lo tanto el conjunto de datos tiene un buen balance de clases."
   ]
  },
  {
   "cell_type": "markdown",
   "id": "9b7342d1",
   "metadata": {},
   "source": [
    "Estadisticos descriptivos de la data"
   ]
  },
  {
   "cell_type": "code",
   "execution_count": 6,
   "id": "fe99b8c6",
   "metadata": {},
   "outputs": [
    {
     "name": "stdout",
     "output_type": "stream",
     "text": [
      "<class 'pandas.core.frame.DataFrame'>\n",
      "RangeIndex: 1372 entries, 0 to 1371\n",
      "Data columns (total 5 columns):\n",
      " #   Column    Non-Null Count  Dtype  \n",
      "---  ------    --------------  -----  \n",
      " 0   variance  1372 non-null   float64\n",
      " 1   skewness  1372 non-null   float64\n",
      " 2   curtosis  1372 non-null   float64\n",
      " 3   entropy   1372 non-null   float64\n",
      " 4   class     1372 non-null   object \n",
      "dtypes: float64(4), object(1)\n",
      "memory usage: 53.7+ KB\n"
     ]
    },
    {
     "data": {
      "text/html": [
       "<div>\n",
       "<style scoped>\n",
       "    .dataframe tbody tr th:only-of-type {\n",
       "        vertical-align: middle;\n",
       "    }\n",
       "\n",
       "    .dataframe tbody tr th {\n",
       "        vertical-align: top;\n",
       "    }\n",
       "\n",
       "    .dataframe thead th {\n",
       "        text-align: right;\n",
       "    }\n",
       "</style>\n",
       "<table border=\"1\" class=\"dataframe\">\n",
       "  <thead>\n",
       "    <tr style=\"text-align: right;\">\n",
       "      <th></th>\n",
       "      <th>variance</th>\n",
       "      <th>skewness</th>\n",
       "      <th>curtosis</th>\n",
       "      <th>entropy</th>\n",
       "    </tr>\n",
       "  </thead>\n",
       "  <tbody>\n",
       "    <tr>\n",
       "      <th>count</th>\n",
       "      <td>1372.000000</td>\n",
       "      <td>1372.000000</td>\n",
       "      <td>1372.000000</td>\n",
       "      <td>1372.000000</td>\n",
       "    </tr>\n",
       "    <tr>\n",
       "      <th>mean</th>\n",
       "      <td>0.433735</td>\n",
       "      <td>1.922353</td>\n",
       "      <td>1.397627</td>\n",
       "      <td>-1.191657</td>\n",
       "    </tr>\n",
       "    <tr>\n",
       "      <th>std</th>\n",
       "      <td>2.842763</td>\n",
       "      <td>5.869047</td>\n",
       "      <td>4.310030</td>\n",
       "      <td>2.101013</td>\n",
       "    </tr>\n",
       "    <tr>\n",
       "      <th>min</th>\n",
       "      <td>-7.042100</td>\n",
       "      <td>-13.773100</td>\n",
       "      <td>-5.286100</td>\n",
       "      <td>-8.548200</td>\n",
       "    </tr>\n",
       "    <tr>\n",
       "      <th>25%</th>\n",
       "      <td>-1.773000</td>\n",
       "      <td>-1.708200</td>\n",
       "      <td>-1.574975</td>\n",
       "      <td>-2.413450</td>\n",
       "    </tr>\n",
       "    <tr>\n",
       "      <th>50%</th>\n",
       "      <td>0.496180</td>\n",
       "      <td>2.319650</td>\n",
       "      <td>0.616630</td>\n",
       "      <td>-0.586650</td>\n",
       "    </tr>\n",
       "    <tr>\n",
       "      <th>75%</th>\n",
       "      <td>2.821475</td>\n",
       "      <td>6.814625</td>\n",
       "      <td>3.179250</td>\n",
       "      <td>0.394810</td>\n",
       "    </tr>\n",
       "    <tr>\n",
       "      <th>max</th>\n",
       "      <td>6.824800</td>\n",
       "      <td>12.951600</td>\n",
       "      <td>17.927400</td>\n",
       "      <td>2.449500</td>\n",
       "    </tr>\n",
       "  </tbody>\n",
       "</table>\n",
       "</div>"
      ],
      "text/plain": [
       "          variance     skewness     curtosis      entropy\n",
       "count  1372.000000  1372.000000  1372.000000  1372.000000\n",
       "mean      0.433735     1.922353     1.397627    -1.191657\n",
       "std       2.842763     5.869047     4.310030     2.101013\n",
       "min      -7.042100   -13.773100    -5.286100    -8.548200\n",
       "25%      -1.773000    -1.708200    -1.574975    -2.413450\n",
       "50%       0.496180     2.319650     0.616630    -0.586650\n",
       "75%       2.821475     6.814625     3.179250     0.394810\n",
       "max       6.824800    12.951600    17.927400     2.449500"
      ]
     },
     "execution_count": 6,
     "metadata": {},
     "output_type": "execute_result"
    }
   ],
   "source": [
    "dfbn.info()\n",
    "dfbn.describe()"
   ]
  },
  {
   "cell_type": "markdown",
   "id": "b36a05dc",
   "metadata": {},
   "source": [
    "Como podemos ver este conjunto de datos no tiene valores nulos, sin embargo se ve que necesario normalizar las columnas. Primero se dividir el conjunto de datos en el set de entrenamiento y prueba (no se agrega validación debido a la cantidad limitada de registros) y luego se procederá con la normalización. "
   ]
  },
  {
   "cell_type": "code",
   "execution_count": 7,
   "id": "1ca124e2",
   "metadata": {},
   "outputs": [],
   "source": [
    "# Dividimos el conjunto de datos en train y prueba\n",
    "Xbn = dfbn.drop(['class'], axis=1)\n",
    "ybn = dfbn['class']\n",
    "Xbn_train, Xbn_test, ybn_train, ybn_test = train_test_split(Xbn, ybn, test_size=0.33, random_state=42)"
   ]
  },
  {
   "cell_type": "code",
   "execution_count": 8,
   "id": "ab4b4513",
   "metadata": {},
   "outputs": [],
   "source": [
    "# Normalización de los datos con MinMaxScaler\n",
    "from sklearn.preprocessing import MinMaxScaler\n",
    "scaler = MinMaxScaler()\n",
    "\n",
    "# Se entrena el MinMaxScaler usando el conjunto de datos de entrenamiento\n",
    "columns = ['variance','skewness', 'curtosis', 'entropy']\n",
    "scaler.fit(np.array(Xbn_train[columns]))\n",
    "\n",
    "# Se aplica el MinMaxScaler los dos conjuntos de datos\n",
    "Xbn_train[columns] = scaler.transform(np.array(Xbn_train[columns]))\n",
    "Xbn_test[columns] = scaler.transform(np.array(Xbn_test[columns]))"
   ]
  },
  {
   "cell_type": "markdown",
   "id": "c62ac87f",
   "metadata": {},
   "source": [
    "### Analisis exploratorio del conjunto de datos Occupancy Detection \n",
    "\n",
    "Este conjunto de datos contiene datos experimentales de mediciones de luz, temperatura, humedad y CO2 para detectar la ocupación de una sala de oficina; es importante determinar de forma precisa la ocupación de un edificio/sala/oficina porque se ha estimado que puede ahorra energía en el orden del 30 al 42%.\n",
    "\n",
    "A continuación se muestran las variables que componen el conjunto de datos: \n",
    "- date: Momento en el que se tomó la imagen.\n",
    "- temperature: Temperatura del cuarto medida en grados Celcius\n",
    "- Relative Humidity: Humedad relativa la cual es medida en porcentaje.\n",
    "- Light: Iluminación en lux, es la cantidad de luz que pasa a través de una superficie y es medido Lux.\n",
    "- Occupancy: Ocupación, 0 ó 1, 0 es el estado NO ocupado y 1 es el estado ocupado."
   ]
  },
  {
   "cell_type": "markdown",
   "id": "0c0bdb92",
   "metadata": {},
   "source": [
    "A continuación se muestra los estadisticos descriptivos de la data"
   ]
  },
  {
   "cell_type": "code",
   "execution_count": 9,
   "id": "147f0b3a",
   "metadata": {
    "scrolled": true
   },
   "outputs": [
    {
     "name": "stdout",
     "output_type": "stream",
     "text": [
      "<class 'pandas.core.frame.DataFrame'>\n",
      "Index: 8143 entries, 1 to 8143\n",
      "Data columns (total 7 columns):\n",
      " #   Column         Non-Null Count  Dtype         \n",
      "---  ------         --------------  -----         \n",
      " 0   date           8143 non-null   datetime64[ns]\n",
      " 1   Temperature    8143 non-null   float64       \n",
      " 2   Humidity       8143 non-null   float64       \n",
      " 3   Light          8143 non-null   float64       \n",
      " 4   CO2            8143 non-null   float64       \n",
      " 5   HumidityRatio  8143 non-null   float64       \n",
      " 6   Occupancy      8143 non-null   int64         \n",
      "dtypes: datetime64[ns](1), float64(5), int64(1)\n",
      "memory usage: 508.9+ KB\n"
     ]
    },
    {
     "data": {
      "text/html": [
       "<div>\n",
       "<style scoped>\n",
       "    .dataframe tbody tr th:only-of-type {\n",
       "        vertical-align: middle;\n",
       "    }\n",
       "\n",
       "    .dataframe tbody tr th {\n",
       "        vertical-align: top;\n",
       "    }\n",
       "\n",
       "    .dataframe thead th {\n",
       "        text-align: right;\n",
       "    }\n",
       "</style>\n",
       "<table border=\"1\" class=\"dataframe\">\n",
       "  <thead>\n",
       "    <tr style=\"text-align: right;\">\n",
       "      <th></th>\n",
       "      <th>Temperature</th>\n",
       "      <th>Humidity</th>\n",
       "      <th>Light</th>\n",
       "      <th>CO2</th>\n",
       "      <th>HumidityRatio</th>\n",
       "      <th>Occupancy</th>\n",
       "    </tr>\n",
       "  </thead>\n",
       "  <tbody>\n",
       "    <tr>\n",
       "      <th>count</th>\n",
       "      <td>8143.000000</td>\n",
       "      <td>8143.000000</td>\n",
       "      <td>8143.000000</td>\n",
       "      <td>8143.000000</td>\n",
       "      <td>8143.000000</td>\n",
       "      <td>8143.000000</td>\n",
       "    </tr>\n",
       "    <tr>\n",
       "      <th>mean</th>\n",
       "      <td>20.619084</td>\n",
       "      <td>25.731507</td>\n",
       "      <td>119.519375</td>\n",
       "      <td>606.546243</td>\n",
       "      <td>0.003863</td>\n",
       "      <td>0.212330</td>\n",
       "    </tr>\n",
       "    <tr>\n",
       "      <th>std</th>\n",
       "      <td>1.016916</td>\n",
       "      <td>5.531211</td>\n",
       "      <td>194.755805</td>\n",
       "      <td>314.320877</td>\n",
       "      <td>0.000852</td>\n",
       "      <td>0.408982</td>\n",
       "    </tr>\n",
       "    <tr>\n",
       "      <th>min</th>\n",
       "      <td>19.000000</td>\n",
       "      <td>16.745000</td>\n",
       "      <td>0.000000</td>\n",
       "      <td>412.750000</td>\n",
       "      <td>0.002674</td>\n",
       "      <td>0.000000</td>\n",
       "    </tr>\n",
       "    <tr>\n",
       "      <th>25%</th>\n",
       "      <td>19.700000</td>\n",
       "      <td>20.200000</td>\n",
       "      <td>0.000000</td>\n",
       "      <td>439.000000</td>\n",
       "      <td>0.003078</td>\n",
       "      <td>0.000000</td>\n",
       "    </tr>\n",
       "    <tr>\n",
       "      <th>50%</th>\n",
       "      <td>20.390000</td>\n",
       "      <td>26.222500</td>\n",
       "      <td>0.000000</td>\n",
       "      <td>453.500000</td>\n",
       "      <td>0.003801</td>\n",
       "      <td>0.000000</td>\n",
       "    </tr>\n",
       "    <tr>\n",
       "      <th>75%</th>\n",
       "      <td>21.390000</td>\n",
       "      <td>30.533333</td>\n",
       "      <td>256.375000</td>\n",
       "      <td>638.833333</td>\n",
       "      <td>0.004352</td>\n",
       "      <td>0.000000</td>\n",
       "    </tr>\n",
       "    <tr>\n",
       "      <th>max</th>\n",
       "      <td>23.180000</td>\n",
       "      <td>39.117500</td>\n",
       "      <td>1546.333333</td>\n",
       "      <td>2028.500000</td>\n",
       "      <td>0.006476</td>\n",
       "      <td>1.000000</td>\n",
       "    </tr>\n",
       "  </tbody>\n",
       "</table>\n",
       "</div>"
      ],
      "text/plain": [
       "       Temperature     Humidity        Light          CO2  HumidityRatio  \\\n",
       "count  8143.000000  8143.000000  8143.000000  8143.000000    8143.000000   \n",
       "mean     20.619084    25.731507   119.519375   606.546243       0.003863   \n",
       "std       1.016916     5.531211   194.755805   314.320877       0.000852   \n",
       "min      19.000000    16.745000     0.000000   412.750000       0.002674   \n",
       "25%      19.700000    20.200000     0.000000   439.000000       0.003078   \n",
       "50%      20.390000    26.222500     0.000000   453.500000       0.003801   \n",
       "75%      21.390000    30.533333   256.375000   638.833333       0.004352   \n",
       "max      23.180000    39.117500  1546.333333  2028.500000       0.006476   \n",
       "\n",
       "         Occupancy  \n",
       "count  8143.000000  \n",
       "mean      0.212330  \n",
       "std       0.408982  \n",
       "min       0.000000  \n",
       "25%       0.000000  \n",
       "50%       0.000000  \n",
       "75%       0.000000  \n",
       "max       1.000000  "
      ]
     },
     "execution_count": 9,
     "metadata": {},
     "output_type": "execute_result"
    }
   ],
   "source": [
    "dfod_train.info()\n",
    "dfod_train.describe()"
   ]
  },
  {
   "cell_type": "code",
   "execution_count": 10,
   "id": "90488413",
   "metadata": {},
   "outputs": [],
   "source": [
    "# Organización del dataset y cambios de nombre a las clases \n",
    "# El set de datos 2 ya viene dividido en el conjunto de datos de entrenamiento, validacion y prueba\n",
    "\n",
    "dfod_train.columns = dfod_train.columns.str.lower()\n",
    "dfod_train['occupancy'] = dfod_train['occupancy'].replace({0: 'no', 1: 'yes'})\n",
    "\n",
    "dfod_val.columns = dfod_val.columns.str.lower()\n",
    "dfod_val['occupancy'] = dfod_val['occupancy'].replace({0: 'no', 1: 'yes'})\n",
    "\n",
    "dfod_test.columns = dfod_test.columns.str.lower()\n",
    "dfod_test['occupancy'] = dfod_test['occupancy'].replace({0: 'no', 1: 'yes'})"
   ]
  },
  {
   "cell_type": "markdown",
   "id": "85d7d129",
   "metadata": {},
   "source": [
    "Vamos a revisar el balance de las clases en el conjunto de entrenamiento"
   ]
  },
  {
   "cell_type": "code",
   "execution_count": 11,
   "id": "4a2e2f81",
   "metadata": {},
   "outputs": [
    {
     "data": {
      "text/plain": [
       "Text(0, 0.5, 'Cantidad')"
      ]
     },
     "execution_count": 11,
     "metadata": {},
     "output_type": "execute_result"
    },
    {
     "data": {
      "image/png": "[encoded data removed]",
      "text/plain": [
       "<Figure size 640x480 with 1 Axes>"
      ]
     },
     "metadata": {},
     "output_type": "display_data"
    }
   ],
   "source": [
    "sns.countplot(data=dfod_train,x='occupancy')\n",
    "plt.title(\"Conteo de clases\")\n",
    "plt.xlabel('Clase')\n",
    "plt.ylabel('Cantidad')"
   ]
  },
  {
   "cell_type": "markdown",
   "id": "914fb54b",
   "metadata": {},
   "source": [
    "Hay un alto desbalanceo de las clases por lo cual se va a remuestrear el conjunto de datos eliminando las instancias de la clase mayoritaria (no ocupado o 0)"
   ]
  },
  {
   "cell_type": "code",
   "execution_count": 12,
   "id": "5381fb98",
   "metadata": {},
   "outputs": [
    {
     "data": {
      "text/html": [
       "<div>\n",
       "<style scoped>\n",
       "    .dataframe tbody tr th:only-of-type {\n",
       "        vertical-align: middle;\n",
       "    }\n",
       "\n",
       "    .dataframe tbody tr th {\n",
       "        vertical-align: top;\n",
       "    }\n",
       "\n",
       "    .dataframe thead th {\n",
       "        text-align: right;\n",
       "    }\n",
       "</style>\n",
       "<table border=\"1\" class=\"dataframe\">\n",
       "  <thead>\n",
       "    <tr style=\"text-align: right;\">\n",
       "      <th></th>\n",
       "      <th>date</th>\n",
       "      <th>temperature</th>\n",
       "      <th>humidity</th>\n",
       "      <th>light</th>\n",
       "      <th>co2</th>\n",
       "      <th>humidityratio</th>\n",
       "      <th>occupancy</th>\n",
       "    </tr>\n",
       "  </thead>\n",
       "  <tbody>\n",
       "    <tr>\n",
       "      <th>1</th>\n",
       "      <td>2015-02-04 17:51:00</td>\n",
       "      <td>23.180</td>\n",
       "      <td>27.272000</td>\n",
       "      <td>426.0</td>\n",
       "      <td>721.250000</td>\n",
       "      <td>0.004793</td>\n",
       "      <td>yes</td>\n",
       "    </tr>\n",
       "    <tr>\n",
       "      <th>2</th>\n",
       "      <td>2015-02-04 17:51:59</td>\n",
       "      <td>23.150</td>\n",
       "      <td>27.267500</td>\n",
       "      <td>429.5</td>\n",
       "      <td>714.000000</td>\n",
       "      <td>0.004783</td>\n",
       "      <td>yes</td>\n",
       "    </tr>\n",
       "    <tr>\n",
       "      <th>3</th>\n",
       "      <td>2015-02-04 17:53:00</td>\n",
       "      <td>23.150</td>\n",
       "      <td>27.245000</td>\n",
       "      <td>426.0</td>\n",
       "      <td>713.500000</td>\n",
       "      <td>0.004779</td>\n",
       "      <td>yes</td>\n",
       "    </tr>\n",
       "    <tr>\n",
       "      <th>4</th>\n",
       "      <td>2015-02-04 17:54:00</td>\n",
       "      <td>23.150</td>\n",
       "      <td>27.200000</td>\n",
       "      <td>426.0</td>\n",
       "      <td>708.250000</td>\n",
       "      <td>0.004772</td>\n",
       "      <td>yes</td>\n",
       "    </tr>\n",
       "    <tr>\n",
       "      <th>5</th>\n",
       "      <td>2015-02-04 17:55:00</td>\n",
       "      <td>23.100</td>\n",
       "      <td>27.200000</td>\n",
       "      <td>426.0</td>\n",
       "      <td>704.500000</td>\n",
       "      <td>0.004757</td>\n",
       "      <td>yes</td>\n",
       "    </tr>\n",
       "    <tr>\n",
       "      <th>6</th>\n",
       "      <td>2015-02-04 17:55:59</td>\n",
       "      <td>23.100</td>\n",
       "      <td>27.200000</td>\n",
       "      <td>419.0</td>\n",
       "      <td>701.000000</td>\n",
       "      <td>0.004757</td>\n",
       "      <td>yes</td>\n",
       "    </tr>\n",
       "    <tr>\n",
       "      <th>7</th>\n",
       "      <td>2015-02-04 17:57:00</td>\n",
       "      <td>23.100</td>\n",
       "      <td>27.200000</td>\n",
       "      <td>419.0</td>\n",
       "      <td>701.666667</td>\n",
       "      <td>0.004757</td>\n",
       "      <td>yes</td>\n",
       "    </tr>\n",
       "    <tr>\n",
       "      <th>8</th>\n",
       "      <td>2015-02-04 17:57:59</td>\n",
       "      <td>23.100</td>\n",
       "      <td>27.200000</td>\n",
       "      <td>419.0</td>\n",
       "      <td>699.000000</td>\n",
       "      <td>0.004757</td>\n",
       "      <td>yes</td>\n",
       "    </tr>\n",
       "    <tr>\n",
       "      <th>9</th>\n",
       "      <td>2015-02-04 17:58:59</td>\n",
       "      <td>23.100</td>\n",
       "      <td>27.200000</td>\n",
       "      <td>419.0</td>\n",
       "      <td>689.333333</td>\n",
       "      <td>0.004757</td>\n",
       "      <td>yes</td>\n",
       "    </tr>\n",
       "    <tr>\n",
       "      <th>10</th>\n",
       "      <td>2015-02-04 18:00:00</td>\n",
       "      <td>23.075</td>\n",
       "      <td>27.175000</td>\n",
       "      <td>419.0</td>\n",
       "      <td>688.000000</td>\n",
       "      <td>0.004745</td>\n",
       "      <td>yes</td>\n",
       "    </tr>\n",
       "    <tr>\n",
       "      <th>11</th>\n",
       "      <td>2015-02-04 18:01:00</td>\n",
       "      <td>23.075</td>\n",
       "      <td>27.150000</td>\n",
       "      <td>419.0</td>\n",
       "      <td>690.250000</td>\n",
       "      <td>0.004741</td>\n",
       "      <td>yes</td>\n",
       "    </tr>\n",
       "    <tr>\n",
       "      <th>12</th>\n",
       "      <td>2015-02-04 18:02:00</td>\n",
       "      <td>23.100</td>\n",
       "      <td>27.100000</td>\n",
       "      <td>419.0</td>\n",
       "      <td>691.000000</td>\n",
       "      <td>0.004739</td>\n",
       "      <td>yes</td>\n",
       "    </tr>\n",
       "    <tr>\n",
       "      <th>13</th>\n",
       "      <td>2015-02-04 18:03:00</td>\n",
       "      <td>23.100</td>\n",
       "      <td>27.166667</td>\n",
       "      <td>419.0</td>\n",
       "      <td>683.500000</td>\n",
       "      <td>0.004751</td>\n",
       "      <td>yes</td>\n",
       "    </tr>\n",
       "    <tr>\n",
       "      <th>14</th>\n",
       "      <td>2015-02-04 18:04:00</td>\n",
       "      <td>23.050</td>\n",
       "      <td>27.150000</td>\n",
       "      <td>419.0</td>\n",
       "      <td>687.500000</td>\n",
       "      <td>0.004734</td>\n",
       "      <td>yes</td>\n",
       "    </tr>\n",
       "    <tr>\n",
       "      <th>15</th>\n",
       "      <td>2015-02-04 18:04:59</td>\n",
       "      <td>23.000</td>\n",
       "      <td>27.125000</td>\n",
       "      <td>419.0</td>\n",
       "      <td>686.000000</td>\n",
       "      <td>0.004715</td>\n",
       "      <td>yes</td>\n",
       "    </tr>\n",
       "    <tr>\n",
       "      <th>16</th>\n",
       "      <td>2015-02-04 18:06:00</td>\n",
       "      <td>23.000</td>\n",
       "      <td>27.125000</td>\n",
       "      <td>418.5</td>\n",
       "      <td>680.500000</td>\n",
       "      <td>0.004715</td>\n",
       "      <td>yes</td>\n",
       "    </tr>\n",
       "    <tr>\n",
       "      <th>17</th>\n",
       "      <td>2015-02-04 18:07:00</td>\n",
       "      <td>23.000</td>\n",
       "      <td>27.200000</td>\n",
       "      <td>0.0</td>\n",
       "      <td>681.500000</td>\n",
       "      <td>0.004728</td>\n",
       "      <td>no</td>\n",
       "    </tr>\n",
       "    <tr>\n",
       "      <th>18</th>\n",
       "      <td>2015-02-04 18:08:00</td>\n",
       "      <td>22.945</td>\n",
       "      <td>27.290000</td>\n",
       "      <td>0.0</td>\n",
       "      <td>685.000000</td>\n",
       "      <td>0.004728</td>\n",
       "      <td>no</td>\n",
       "    </tr>\n",
       "    <tr>\n",
       "      <th>19</th>\n",
       "      <td>2015-02-04 18:08:59</td>\n",
       "      <td>22.945</td>\n",
       "      <td>27.390000</td>\n",
       "      <td>0.0</td>\n",
       "      <td>685.000000</td>\n",
       "      <td>0.004745</td>\n",
       "      <td>no</td>\n",
       "    </tr>\n",
       "    <tr>\n",
       "      <th>20</th>\n",
       "      <td>2015-02-04 18:10:00</td>\n",
       "      <td>22.890</td>\n",
       "      <td>27.390000</td>\n",
       "      <td>0.0</td>\n",
       "      <td>689.000000</td>\n",
       "      <td>0.004730</td>\n",
       "      <td>no</td>\n",
       "    </tr>\n",
       "  </tbody>\n",
       "</table>\n",
       "</div>"
      ],
      "text/plain": [
       "                  date  temperature   humidity  light         co2  \\\n",
       "1  2015-02-04 17:51:00       23.180  27.272000  426.0  721.250000   \n",
       "2  2015-02-04 17:51:59       23.150  27.267500  429.5  714.000000   \n",
       "3  2015-02-04 17:53:00       23.150  27.245000  426.0  713.500000   \n",
       "4  2015-02-04 17:54:00       23.150  27.200000  426.0  708.250000   \n",
       "5  2015-02-04 17:55:00       23.100  27.200000  426.0  704.500000   \n",
       "6  2015-02-04 17:55:59       23.100  27.200000  419.0  701.000000   \n",
       "7  2015-02-04 17:57:00       23.100  27.200000  419.0  701.666667   \n",
       "8  2015-02-04 17:57:59       23.100  27.200000  419.0  699.000000   \n",
       "9  2015-02-04 17:58:59       23.100  27.200000  419.0  689.333333   \n",
       "10 2015-02-04 18:00:00       23.075  27.175000  419.0  688.000000   \n",
       "11 2015-02-04 18:01:00       23.075  27.150000  419.0  690.250000   \n",
       "12 2015-02-04 18:02:00       23.100  27.100000  419.0  691.000000   \n",
       "13 2015-02-04 18:03:00       23.100  27.166667  419.0  683.500000   \n",
       "14 2015-02-04 18:04:00       23.050  27.150000  419.0  687.500000   \n",
       "15 2015-02-04 18:04:59       23.000  27.125000  419.0  686.000000   \n",
       "16 2015-02-04 18:06:00       23.000  27.125000  418.5  680.500000   \n",
       "17 2015-02-04 18:07:00       23.000  27.200000    0.0  681.500000   \n",
       "18 2015-02-04 18:08:00       22.945  27.290000    0.0  685.000000   \n",
       "19 2015-02-04 18:08:59       22.945  27.390000    0.0  685.000000   \n",
       "20 2015-02-04 18:10:00       22.890  27.390000    0.0  689.000000   \n",
       "\n",
       "    humidityratio occupancy  \n",
       "1        0.004793       yes  \n",
       "2        0.004783       yes  \n",
       "3        0.004779       yes  \n",
       "4        0.004772       yes  \n",
       "5        0.004757       yes  \n",
       "6        0.004757       yes  \n",
       "7        0.004757       yes  \n",
       "8        0.004757       yes  \n",
       "9        0.004757       yes  \n",
       "10       0.004745       yes  \n",
       "11       0.004741       yes  \n",
       "12       0.004739       yes  \n",
       "13       0.004751       yes  \n",
       "14       0.004734       yes  \n",
       "15       0.004715       yes  \n",
       "16       0.004715       yes  \n",
       "17       0.004728        no  \n",
       "18       0.004728        no  \n",
       "19       0.004745        no  \n",
       "20       0.004730        no  "
      ]
     },
     "execution_count": 12,
     "metadata": {},
     "output_type": "execute_result"
    }
   ],
   "source": [
    "dfod_train.head(20)"
   ]
  },
  {
   "cell_type": "code",
   "execution_count": 13,
   "id": "420176d2",
   "metadata": {
    "scrolled": true
   },
   "outputs": [
    {
     "name": "stderr",
     "output_type": "stream",
     "text": [
      "C:\\Users\\Maria Perpiñan\\AppData\\Local\\Temp\\ipykernel_9292\\1634743132.py:3: FutureWarning: The default value of numeric_only in DataFrameGroupBy.sum is deprecated. In a future version, numeric_only will default to False. Either specify numeric_only or select only columns which should be valid for the function.\n",
      "  dfod_train = dfod_train.groupby('occupancy').resample('1Min').sum().reset_index()\n"
     ]
    }
   ],
   "source": [
    "# Hago el downsample disminuyendo la frecuencia de los datos de segundos a 5 min \n",
    "dfod_train.set_index('date', inplace=True)\n",
    "dfod_train = dfod_train.groupby('occupancy').resample('1Min').sum().reset_index()"
   ]
  },
  {
   "cell_type": "code",
   "execution_count": 14,
   "id": "2aad8dc8",
   "metadata": {},
   "outputs": [
    {
     "data": {
      "text/plain": [
       "Text(0, 0.5, 'Cantidad')"
      ]
     },
     "execution_count": 14,
     "metadata": {},
     "output_type": "execute_result"
    },
    {
     "data": {
      "image/png": "[encoded data removed]",
      "text/plain": [
       "<Figure size 640x480 with 1 Axes>"
      ]
     },
     "metadata": {},
     "output_type": "display_data"
    }
   ],
   "source": [
    "sns.countplot(data=dfod_train,x='occupancy')\n",
    "plt.title(\"Conteo de clases\")\n",
    "plt.xlabel('Clase')\n",
    "plt.ylabel('Cantidad')"
   ]
  },
  {
   "cell_type": "markdown",
   "id": "0709b07e",
   "metadata": {},
   "source": [
    "Al igual que en el primer conjunto de datos no tenemos valores nulos; dado que tenemos valores bajos de de humedad relativa y valores altos como la luz y el CO2 debemos normalizar los datos para simplificar y mejorar el proceso de aprendizaje."
   ]
  },
  {
   "cell_type": "code",
   "execution_count": 15,
   "id": "b18cd07b",
   "metadata": {},
   "outputs": [
    {
     "data": {
      "text/html": [
       "<div>\n",
       "<style scoped>\n",
       "    .dataframe tbody tr th:only-of-type {\n",
       "        vertical-align: middle;\n",
       "    }\n",
       "\n",
       "    .dataframe tbody tr th {\n",
       "        vertical-align: top;\n",
       "    }\n",
       "\n",
       "    .dataframe thead th {\n",
       "        text-align: right;\n",
       "    }\n",
       "</style>\n",
       "<table border=\"1\" class=\"dataframe\">\n",
       "  <thead>\n",
       "    <tr style=\"text-align: right;\">\n",
       "      <th></th>\n",
       "      <th>temperature</th>\n",
       "      <th>humidity</th>\n",
       "      <th>light</th>\n",
       "      <th>co2</th>\n",
       "      <th>humidityratio</th>\n",
       "    </tr>\n",
       "  </thead>\n",
       "  <tbody>\n",
       "    <tr>\n",
       "      <th>count</th>\n",
       "      <td>16218.000000</td>\n",
       "      <td>16218.000000</td>\n",
       "      <td>16218.000000</td>\n",
       "      <td>16218.000000</td>\n",
       "      <td>16218.000000</td>\n",
       "    </tr>\n",
       "    <tr>\n",
       "      <th>mean</th>\n",
       "      <td>0.223457</td>\n",
       "      <td>0.165198</td>\n",
       "      <td>0.020016</td>\n",
       "      <td>0.075131</td>\n",
       "      <td>0.149781</td>\n",
       "    </tr>\n",
       "    <tr>\n",
       "      <th>std</th>\n",
       "      <td>0.298806</td>\n",
       "      <td>0.228351</td>\n",
       "      <td>0.060545</td>\n",
       "      <td>0.119302</td>\n",
       "      <td>0.207379</td>\n",
       "    </tr>\n",
       "    <tr>\n",
       "      <th>min</th>\n",
       "      <td>0.000000</td>\n",
       "      <td>0.000000</td>\n",
       "      <td>0.000000</td>\n",
       "      <td>0.000000</td>\n",
       "      <td>0.000000</td>\n",
       "    </tr>\n",
       "    <tr>\n",
       "      <th>25%</th>\n",
       "      <td>0.000000</td>\n",
       "      <td>0.000000</td>\n",
       "      <td>0.000000</td>\n",
       "      <td>0.000000</td>\n",
       "      <td>0.000000</td>\n",
       "    </tr>\n",
       "    <tr>\n",
       "      <th>50%</th>\n",
       "      <td>0.000000</td>\n",
       "      <td>0.000000</td>\n",
       "      <td>0.000000</td>\n",
       "      <td>0.000000</td>\n",
       "      <td>0.000000</td>\n",
       "    </tr>\n",
       "    <tr>\n",
       "      <th>75%</th>\n",
       "      <td>0.441291</td>\n",
       "      <td>0.335582</td>\n",
       "      <td>0.000000</td>\n",
       "      <td>0.112002</td>\n",
       "      <td>0.293857</td>\n",
       "    </tr>\n",
       "    <tr>\n",
       "      <th>max</th>\n",
       "      <td>1.000000</td>\n",
       "      <td>1.000000</td>\n",
       "      <td>1.000000</td>\n",
       "      <td>1.000000</td>\n",
       "      <td>1.000000</td>\n",
       "    </tr>\n",
       "  </tbody>\n",
       "</table>\n",
       "</div>"
      ],
      "text/plain": [
       "        temperature      humidity         light           co2  humidityratio\n",
       "count  16218.000000  16218.000000  16218.000000  16218.000000   16218.000000\n",
       "mean       0.223457      0.165198      0.020016      0.075131       0.149781\n",
       "std        0.298806      0.228351      0.060545      0.119302       0.207379\n",
       "min        0.000000      0.000000      0.000000      0.000000       0.000000\n",
       "25%        0.000000      0.000000      0.000000      0.000000       0.000000\n",
       "50%        0.000000      0.000000      0.000000      0.000000       0.000000\n",
       "75%        0.441291      0.335582      0.000000      0.112002       0.293857\n",
       "max        1.000000      1.000000      1.000000      1.000000       1.000000"
      ]
     },
     "execution_count": 15,
     "metadata": {},
     "output_type": "execute_result"
    }
   ],
   "source": [
    "columns = ['temperature', 'humidity', 'light', 'co2', 'humidityratio']\n",
    "\n",
    "# Se entrena el MinMaxScaler usando el conjunto de datos de entrenamiento\n",
    "scaler.fit(np.array(dfod_train[columns]))\n",
    "\n",
    "# Se aplica el MinMaxScaler todas los conjuntos de datos\n",
    "dfod_train[columns] = scaler.transform(np.array(dfod_train[columns]))\n",
    "dfod_val[columns] = scaler.transform(np.array(dfod_val[columns]))\n",
    "dfod_test[columns] = scaler.transform(np.array(dfod_test[columns]))\n",
    "\n",
    "dfod_train.describe()"
   ]
  },
  {
   "cell_type": "markdown",
   "id": "627a89d6",
   "metadata": {},
   "source": [
    "Se va a realizar un tratamiento al periodo de tiempo el cual se va a manejar en horas y en días de semana"
   ]
  },
  {
   "cell_type": "code",
   "execution_count": 16,
   "id": "2042ba45",
   "metadata": {},
   "outputs": [],
   "source": [
    "import datetime"
   ]
  },
  {
   "cell_type": "code",
   "execution_count": 17,
   "id": "4d9e6414",
   "metadata": {},
   "outputs": [],
   "source": [
    "def convert_hour_to_word(hour):\n",
    "    hour = hour % 24  # Ensure the hour value is within 0-23 range\n",
    "    time = datetime.time(hour=hour)\n",
    "    hour_word = time.strftime(\"%I %p\")  # Convert hour to \"hh AM/PM\" format\n",
    "    hour_word = hour_word.lstrip(\"0\")  # Remove leading zero from single-digit hours\n",
    "    return hour_word"
   ]
  },
  {
   "cell_type": "code",
   "execution_count": 18,
   "id": "561d9f8c",
   "metadata": {},
   "outputs": [],
   "source": [
    "def convert_minute_to_word(minute):\n",
    "    minute = minute % 60  # Ensure the minute value is within 0-59 range\n",
    "    time = datetime.time(hour=0, minute=minute)\n",
    "    minute_word = time.strftime(\"%M\")\n",
    "    minute_word = minute_word.lstrip(\"0\")  # Remove leading zero from single-digit minutes\n",
    "    minute_word += \" Min\"\n",
    "    return minute_word"
   ]
  },
  {
   "cell_type": "code",
   "execution_count": 19,
   "id": "569c18c5",
   "metadata": {},
   "outputs": [
    {
     "data": {
      "text/plain": [
       "\"# Aplicación conjunto de datos de entrenamiento\\ndfod_train['week_day'] = dfod_train['date'].dt.day_name()\\ndfod_train['hour'] = dfod_train['date'].dt.hour\\ndfod_train['minute'] = dfod_train['date'].dt.minute\\ndfod_train['hour'] = dfod_train['hour'].apply(convert_hour_to_word)\\ndfod_train['minute'] = dfod_train['minute'].apply(convert_minute_to_word)\\n\\n\\ndfod_val['week_day'] = dfod_val['date'].dt.day_name()\\ndfod_val['hour'] = dfod_val['date'].dt.hour\\ndfod_val['minute'] = dfod_val['date'].dt.minute\\ndfod_val['hour'] = dfod_val['hour'].apply(convert_hour_to_word)\\ndfod_val['minute'] = dfod_val['minute'].apply(convert_minute_to_word)\\n\\n\\ndfod_test['week_day'] = dfod_test['date'].dt.day_name()\\ndfod_test['hour'] = dfod_test['date'].dt.hour \\ndfod_test['minute'] = dfod_test['date'].dt.minute\\ndfod_test['hour'] = dfod_test['hour'].apply(convert_hour_to_word)\\ndfod_test['minute'] = dfod_test['minute'].apply(convert_minute_to_word)\\n\\nfrom sklearn.preprocessing import LabelEncoder\\n\\ndfod_train[['week_day', 'hour', 'minute']] = dfod_train[['week_day', 'hour', 'minute']] .apply(LabelEncoder().fit_transform)\\ndfod_val[['week_day', 'hour', 'minute']] = dfod_val[['week_day', 'hour', 'minute']] .apply(LabelEncoder().fit_transform)\\ndfod_test[['week_day', 'hour', 'minute']] = dfod_test[['week_day', 'hour', 'minute']] .apply(LabelEncoder().fit_transform)\""
      ]
     },
     "execution_count": 19,
     "metadata": {},
     "output_type": "execute_result"
    }
   ],
   "source": [
    "\"\"\"# Aplicación conjunto de datos de entrenamiento\n",
    "dfod_train['week_day'] = dfod_train['date'].dt.day_name()\n",
    "dfod_train['hour'] = dfod_train['date'].dt.hour\n",
    "dfod_train['minute'] = dfod_train['date'].dt.minute\n",
    "dfod_train['hour'] = dfod_train['hour'].apply(convert_hour_to_word)\n",
    "dfod_train['minute'] = dfod_train['minute'].apply(convert_minute_to_word)\n",
    "\n",
    "\n",
    "dfod_val['week_day'] = dfod_val['date'].dt.day_name()\n",
    "dfod_val['hour'] = dfod_val['date'].dt.hour\n",
    "dfod_val['minute'] = dfod_val['date'].dt.minute\n",
    "dfod_val['hour'] = dfod_val['hour'].apply(convert_hour_to_word)\n",
    "dfod_val['minute'] = dfod_val['minute'].apply(convert_minute_to_word)\n",
    "\n",
    "\n",
    "dfod_test['week_day'] = dfod_test['date'].dt.day_name()\n",
    "dfod_test['hour'] = dfod_test['date'].dt.hour \n",
    "dfod_test['minute'] = dfod_test['date'].dt.minute\n",
    "dfod_test['hour'] = dfod_test['hour'].apply(convert_hour_to_word)\n",
    "dfod_test['minute'] = dfod_test['minute'].apply(convert_minute_to_word)\n",
    "\n",
    "from sklearn.preprocessing import LabelEncoder\n",
    "\n",
    "dfod_train[['week_day', 'hour', 'minute']] = dfod_train[['week_day', 'hour', 'minute']] .apply(LabelEncoder().fit_transform)\n",
    "dfod_val[['week_day', 'hour', 'minute']] = dfod_val[['week_day', 'hour', 'minute']] .apply(LabelEncoder().fit_transform)\n",
    "dfod_test[['week_day', 'hour', 'minute']] = dfod_test[['week_day', 'hour', 'minute']] .apply(LabelEncoder().fit_transform)\"\"\""
   ]
  },
  {
   "cell_type": "code",
   "execution_count": 20,
   "id": "7fb08e78",
   "metadata": {},
   "outputs": [
    {
     "data": {
      "text/html": [
       "<div>\n",
       "<style scoped>\n",
       "    .dataframe tbody tr th:only-of-type {\n",
       "        vertical-align: middle;\n",
       "    }\n",
       "\n",
       "    .dataframe tbody tr th {\n",
       "        vertical-align: top;\n",
       "    }\n",
       "\n",
       "    .dataframe thead th {\n",
       "        text-align: right;\n",
       "    }\n",
       "</style>\n",
       "<table border=\"1\" class=\"dataframe\">\n",
       "  <thead>\n",
       "    <tr style=\"text-align: right;\">\n",
       "      <th></th>\n",
       "      <th>occupancy</th>\n",
       "      <th>date</th>\n",
       "      <th>temperature</th>\n",
       "      <th>humidity</th>\n",
       "      <th>light</th>\n",
       "      <th>co2</th>\n",
       "      <th>humidityratio</th>\n",
       "    </tr>\n",
       "  </thead>\n",
       "  <tbody>\n",
       "    <tr>\n",
       "      <th>0</th>\n",
       "      <td>no</td>\n",
       "      <td>2015-02-04 18:07:00</td>\n",
       "      <td>0.496439</td>\n",
       "      <td>0.347793</td>\n",
       "      <td>0.000000</td>\n",
       "      <td>0.168126</td>\n",
       "      <td>0.365161</td>\n",
       "    </tr>\n",
       "    <tr>\n",
       "      <th>1</th>\n",
       "      <td>no</td>\n",
       "      <td>2015-02-04 18:08:00</td>\n",
       "      <td>0.990503</td>\n",
       "      <td>0.699166</td>\n",
       "      <td>0.000000</td>\n",
       "      <td>0.337980</td>\n",
       "      <td>0.731652</td>\n",
       "    </tr>\n",
       "    <tr>\n",
       "      <th>2</th>\n",
       "      <td>no</td>\n",
       "      <td>2015-02-04 18:09:00</td>\n",
       "      <td>0.000000</td>\n",
       "      <td>0.000000</td>\n",
       "      <td>0.000000</td>\n",
       "      <td>0.000000</td>\n",
       "      <td>0.000000</td>\n",
       "    </tr>\n",
       "    <tr>\n",
       "      <th>3</th>\n",
       "      <td>no</td>\n",
       "      <td>2015-02-04 18:10:00</td>\n",
       "      <td>0.988129</td>\n",
       "      <td>0.700444</td>\n",
       "      <td>0.000000</td>\n",
       "      <td>0.340076</td>\n",
       "      <td>0.730543</td>\n",
       "    </tr>\n",
       "    <tr>\n",
       "      <th>4</th>\n",
       "      <td>no</td>\n",
       "      <td>2015-02-04 18:11:00</td>\n",
       "      <td>0.494064</td>\n",
       "      <td>0.350222</td>\n",
       "      <td>0.000000</td>\n",
       "      <td>0.169977</td>\n",
       "      <td>0.365272</td>\n",
       "    </tr>\n",
       "    <tr>\n",
       "      <th>...</th>\n",
       "      <td>...</td>\n",
       "      <td>...</td>\n",
       "      <td>...</td>\n",
       "      <td>...</td>\n",
       "      <td>...</td>\n",
       "      <td>...</td>\n",
       "      <td>...</td>\n",
       "    </tr>\n",
       "    <tr>\n",
       "      <th>16213</th>\n",
       "      <td>yes</td>\n",
       "      <td>2015-02-10 09:29:00</td>\n",
       "      <td>0.908698</td>\n",
       "      <td>0.921811</td>\n",
       "      <td>0.288851</td>\n",
       "      <td>0.388985</td>\n",
       "      <td>0.860482</td>\n",
       "    </tr>\n",
       "    <tr>\n",
       "      <th>16214</th>\n",
       "      <td>yes</td>\n",
       "      <td>2015-02-10 09:30:00</td>\n",
       "      <td>0.455428</td>\n",
       "      <td>0.461529</td>\n",
       "      <td>0.144426</td>\n",
       "      <td>0.196990</td>\n",
       "      <td>0.432165</td>\n",
       "    </tr>\n",
       "    <tr>\n",
       "      <th>16215</th>\n",
       "      <td>yes</td>\n",
       "      <td>2015-02-10 09:31:00</td>\n",
       "      <td>0.000000</td>\n",
       "      <td>0.000000</td>\n",
       "      <td>0.000000</td>\n",
       "      <td>0.000000</td>\n",
       "      <td>0.000000</td>\n",
       "    </tr>\n",
       "    <tr>\n",
       "      <th>16216</th>\n",
       "      <td>yes</td>\n",
       "      <td>2015-02-10 09:32:00</td>\n",
       "      <td>0.455428</td>\n",
       "      <td>0.463638</td>\n",
       "      <td>0.144426</td>\n",
       "      <td>0.202377</td>\n",
       "      <td>0.434159</td>\n",
       "    </tr>\n",
       "    <tr>\n",
       "      <th>16217</th>\n",
       "      <td>yes</td>\n",
       "      <td>2015-02-10 09:33:00</td>\n",
       "      <td>0.455428</td>\n",
       "      <td>0.462871</td>\n",
       "      <td>0.149095</td>\n",
       "      <td>0.202541</td>\n",
       "      <td>0.433434</td>\n",
       "    </tr>\n",
       "  </tbody>\n",
       "</table>\n",
       "<p>16218 rows × 7 columns</p>\n",
       "</div>"
      ],
      "text/plain": [
       "      occupancy                date  temperature  humidity     light  \\\n",
       "0            no 2015-02-04 18:07:00     0.496439  0.347793  0.000000   \n",
       "1            no 2015-02-04 18:08:00     0.990503  0.699166  0.000000   \n",
       "2            no 2015-02-04 18:09:00     0.000000  0.000000  0.000000   \n",
       "3            no 2015-02-04 18:10:00     0.988129  0.700444  0.000000   \n",
       "4            no 2015-02-04 18:11:00     0.494064  0.350222  0.000000   \n",
       "...         ...                 ...          ...       ...       ...   \n",
       "16213       yes 2015-02-10 09:29:00     0.908698  0.921811  0.288851   \n",
       "16214       yes 2015-02-10 09:30:00     0.455428  0.461529  0.144426   \n",
       "16215       yes 2015-02-10 09:31:00     0.000000  0.000000  0.000000   \n",
       "16216       yes 2015-02-10 09:32:00     0.455428  0.463638  0.144426   \n",
       "16217       yes 2015-02-10 09:33:00     0.455428  0.462871  0.149095   \n",
       "\n",
       "            co2  humidityratio  \n",
       "0      0.168126       0.365161  \n",
       "1      0.337980       0.731652  \n",
       "2      0.000000       0.000000  \n",
       "3      0.340076       0.730543  \n",
       "4      0.169977       0.365272  \n",
       "...         ...            ...  \n",
       "16213  0.388985       0.860482  \n",
       "16214  0.196990       0.432165  \n",
       "16215  0.000000       0.000000  \n",
       "16216  0.202377       0.434159  \n",
       "16217  0.202541       0.433434  \n",
       "\n",
       "[16218 rows x 7 columns]"
      ]
     },
     "execution_count": 20,
     "metadata": {},
     "output_type": "execute_result"
    }
   ],
   "source": [
    "dfod_train"
   ]
  },
  {
   "cell_type": "code",
   "execution_count": 21,
   "id": "d3b94251",
   "metadata": {},
   "outputs": [],
   "source": [
    "# Aplicación conjunto de datos de entrenamiento\n",
    "dfod_train['week_day'] = dfod_train['date'].dt.weekday \n",
    "dfod_train['hour'] = dfod_train['date'].dt.hour\n",
    "dfod_train['minute'] = dfod_train['date'].dt.minute\n",
    "\n",
    "# Aplicación a los demás conjuntos de datos\n",
    "dfod_val['week_day'] = dfod_val['date'].dt.weekday\n",
    "dfod_val['hour'] = dfod_val['date'].dt.hour\n",
    "dfod_val['minute'] = dfod_val['date'].dt.minute\n",
    "\n",
    "dfod_test['week_day'] = dfod_test['date'].dt.weekday\n",
    "dfod_test['hour'] = dfod_test['date'].dt.hour \n",
    "dfod_test['minute'] = dfod_test['date'].dt.minute\n",
    "\n",
    "#NOTA: Lunes es el día 0 y Domingo es el 6"
   ]
  },
  {
   "cell_type": "code",
   "execution_count": 22,
   "id": "083bca82",
   "metadata": {},
   "outputs": [
    {
     "data": {
      "text/html": [
       "<div>\n",
       "<style scoped>\n",
       "    .dataframe tbody tr th:only-of-type {\n",
       "        vertical-align: middle;\n",
       "    }\n",
       "\n",
       "    .dataframe tbody tr th {\n",
       "        vertical-align: top;\n",
       "    }\n",
       "\n",
       "    .dataframe thead th {\n",
       "        text-align: right;\n",
       "    }\n",
       "</style>\n",
       "<table border=\"1\" class=\"dataframe\">\n",
       "  <thead>\n",
       "    <tr style=\"text-align: right;\">\n",
       "      <th></th>\n",
       "      <th>date</th>\n",
       "      <th>temperature</th>\n",
       "      <th>humidity</th>\n",
       "      <th>light</th>\n",
       "      <th>co2</th>\n",
       "      <th>humidityratio</th>\n",
       "      <th>occupancy</th>\n",
       "      <th>week_day</th>\n",
       "      <th>hour</th>\n",
       "      <th>minute</th>\n",
       "    </tr>\n",
       "  </thead>\n",
       "  <tbody>\n",
       "    <tr>\n",
       "      <th>1</th>\n",
       "      <td>2015-02-11 14:48:00</td>\n",
       "      <td>0.469674</td>\n",
       "      <td>0.398086</td>\n",
       "      <td>0.145871</td>\n",
       "      <td>0.254019</td>\n",
       "      <td>0.387785</td>\n",
       "      <td>yes</td>\n",
       "      <td>2</td>\n",
       "      <td>14</td>\n",
       "      <td>48</td>\n",
       "    </tr>\n",
       "    <tr>\n",
       "      <th>2</th>\n",
       "      <td>2015-02-11 14:49:00</td>\n",
       "      <td>0.470322</td>\n",
       "      <td>0.396381</td>\n",
       "      <td>0.145871</td>\n",
       "      <td>0.246700</td>\n",
       "      <td>0.386825</td>\n",
       "      <td>yes</td>\n",
       "      <td>2</td>\n",
       "      <td>14</td>\n",
       "      <td>49</td>\n",
       "    </tr>\n",
       "    <tr>\n",
       "      <th>3</th>\n",
       "      <td>2015-02-11 14:50:00</td>\n",
       "      <td>0.469836</td>\n",
       "      <td>0.397948</td>\n",
       "      <td>0.144759</td>\n",
       "      <td>0.247626</td>\n",
       "      <td>0.387829</td>\n",
       "      <td>yes</td>\n",
       "      <td>2</td>\n",
       "      <td>14</td>\n",
       "      <td>50</td>\n",
       "    </tr>\n",
       "    <tr>\n",
       "      <th>4</th>\n",
       "      <td>2015-02-11 14:51:00</td>\n",
       "      <td>0.469836</td>\n",
       "      <td>0.397948</td>\n",
       "      <td>0.146427</td>\n",
       "      <td>0.249044</td>\n",
       "      <td>0.387829</td>\n",
       "      <td>yes</td>\n",
       "      <td>2</td>\n",
       "      <td>14</td>\n",
       "      <td>51</td>\n",
       "    </tr>\n",
       "    <tr>\n",
       "      <th>5</th>\n",
       "      <td>2015-02-11 14:51:59</td>\n",
       "      <td>0.470322</td>\n",
       "      <td>0.398086</td>\n",
       "      <td>0.145871</td>\n",
       "      <td>0.248098</td>\n",
       "      <td>0.388503</td>\n",
       "      <td>yes</td>\n",
       "      <td>2</td>\n",
       "      <td>14</td>\n",
       "      <td>51</td>\n",
       "    </tr>\n",
       "  </tbody>\n",
       "</table>\n",
       "</div>"
      ],
      "text/plain": [
       "                 date  temperature  humidity     light       co2  \\\n",
       "1 2015-02-11 14:48:00     0.469674  0.398086  0.145871  0.254019   \n",
       "2 2015-02-11 14:49:00     0.470322  0.396381  0.145871  0.246700   \n",
       "3 2015-02-11 14:50:00     0.469836  0.397948  0.144759  0.247626   \n",
       "4 2015-02-11 14:51:00     0.469836  0.397948  0.146427  0.249044   \n",
       "5 2015-02-11 14:51:59     0.470322  0.398086  0.145871  0.248098   \n",
       "\n",
       "   humidityratio occupancy  week_day  hour  minute  \n",
       "1       0.387785       yes         2    14      48  \n",
       "2       0.386825       yes         2    14      49  \n",
       "3       0.387829       yes         2    14      50  \n",
       "4       0.387829       yes         2    14      51  \n",
       "5       0.388503       yes         2    14      51  "
      ]
     },
     "execution_count": 22,
     "metadata": {},
     "output_type": "execute_result"
    }
   ],
   "source": [
    "dfod_test.head()"
   ]
  },
  {
   "cell_type": "code",
   "execution_count": 23,
   "id": "5042179d",
   "metadata": {},
   "outputs": [
    {
     "data": {
      "text/html": [
       "<div>\n",
       "<style scoped>\n",
       "    .dataframe tbody tr th:only-of-type {\n",
       "        vertical-align: middle;\n",
       "    }\n",
       "\n",
       "    .dataframe tbody tr th {\n",
       "        vertical-align: top;\n",
       "    }\n",
       "\n",
       "    .dataframe thead th {\n",
       "        text-align: right;\n",
       "    }\n",
       "</style>\n",
       "<table border=\"1\" class=\"dataframe\">\n",
       "  <thead>\n",
       "    <tr style=\"text-align: right;\">\n",
       "      <th></th>\n",
       "      <th>date</th>\n",
       "      <th>temperature</th>\n",
       "      <th>humidity</th>\n",
       "      <th>light</th>\n",
       "      <th>co2</th>\n",
       "      <th>humidityratio</th>\n",
       "      <th>occupancy</th>\n",
       "      <th>week_day</th>\n",
       "      <th>hour</th>\n",
       "      <th>minute</th>\n",
       "    </tr>\n",
       "  </thead>\n",
       "  <tbody>\n",
       "    <tr>\n",
       "      <th>140</th>\n",
       "      <td>2015-02-02 14:19:00</td>\n",
       "      <td>0.511548</td>\n",
       "      <td>0.335927</td>\n",
       "      <td>0.195191</td>\n",
       "      <td>0.184828</td>\n",
       "      <td>0.367948</td>\n",
       "      <td>yes</td>\n",
       "      <td>0</td>\n",
       "      <td>14</td>\n",
       "      <td>19</td>\n",
       "    </tr>\n",
       "    <tr>\n",
       "      <th>141</th>\n",
       "      <td>2015-02-02 14:19:59</td>\n",
       "      <td>0.511936</td>\n",
       "      <td>0.336157</td>\n",
       "      <td>0.192923</td>\n",
       "      <td>0.187591</td>\n",
       "      <td>0.368605</td>\n",
       "      <td>yes</td>\n",
       "      <td>0</td>\n",
       "      <td>14</td>\n",
       "      <td>19</td>\n",
       "    </tr>\n",
       "    <tr>\n",
       "      <th>142</th>\n",
       "      <td>2015-02-02 14:21:00</td>\n",
       "      <td>0.512195</td>\n",
       "      <td>0.335390</td>\n",
       "      <td>0.191011</td>\n",
       "      <td>0.189877</td>\n",
       "      <td>0.368025</td>\n",
       "      <td>yes</td>\n",
       "      <td>0</td>\n",
       "      <td>14</td>\n",
       "      <td>21</td>\n",
       "    </tr>\n",
       "    <tr>\n",
       "      <th>143</th>\n",
       "      <td>2015-02-02 14:22:00</td>\n",
       "      <td>0.512033</td>\n",
       "      <td>0.334047</td>\n",
       "      <td>0.164689</td>\n",
       "      <td>0.191131</td>\n",
       "      <td>0.366374</td>\n",
       "      <td>yes</td>\n",
       "      <td>0</td>\n",
       "      <td>14</td>\n",
       "      <td>22</td>\n",
       "    </tr>\n",
       "    <tr>\n",
       "      <th>144</th>\n",
       "      <td>2015-02-02 14:23:00</td>\n",
       "      <td>0.512713</td>\n",
       "      <td>0.335006</td>\n",
       "      <td>0.162971</td>\n",
       "      <td>0.192180</td>\n",
       "      <td>0.368136</td>\n",
       "      <td>yes</td>\n",
       "      <td>0</td>\n",
       "      <td>14</td>\n",
       "      <td>23</td>\n",
       "    </tr>\n",
       "  </tbody>\n",
       "</table>\n",
       "</div>"
      ],
      "text/plain": [
       "                   date  temperature  humidity     light       co2  \\\n",
       "140 2015-02-02 14:19:00     0.511548  0.335927  0.195191  0.184828   \n",
       "141 2015-02-02 14:19:59     0.511936  0.336157  0.192923  0.187591   \n",
       "142 2015-02-02 14:21:00     0.512195  0.335390  0.191011  0.189877   \n",
       "143 2015-02-02 14:22:00     0.512033  0.334047  0.164689  0.191131   \n",
       "144 2015-02-02 14:23:00     0.512713  0.335006  0.162971  0.192180   \n",
       "\n",
       "     humidityratio occupancy  week_day  hour  minute  \n",
       "140       0.367948       yes         0    14      19  \n",
       "141       0.368605       yes         0    14      19  \n",
       "142       0.368025       yes         0    14      21  \n",
       "143       0.366374       yes         0    14      22  \n",
       "144       0.368136       yes         0    14      23  "
      ]
     },
     "execution_count": 23,
     "metadata": {},
     "output_type": "execute_result"
    }
   ],
   "source": [
    "dfod_val.head()"
   ]
  },
  {
   "cell_type": "markdown",
   "id": "2bec62e8",
   "metadata": {},
   "source": [
    "Separamos las variables predictoras (X) y de respuesta (Y) de cada conjunto de datos"
   ]
  },
  {
   "cell_type": "code",
   "execution_count": 24,
   "id": "822afa9e",
   "metadata": {},
   "outputs": [],
   "source": [
    "Xfod_train = dfod_train.drop(['occupancy', 'date'], axis=1).to_numpy()\n",
    "yfod_train = dfod_train['occupancy'].to_numpy()\n",
    "Xfod_test = dfod_test.drop(['occupancy', 'date'], axis=1).to_numpy()\n",
    "yfod_test = dfod_test['occupancy'].to_numpy()\n",
    "Xfod_val = dfod_val.drop(['occupancy', 'date'], axis=1).to_numpy()\n",
    "yfod_val = dfod_val['occupancy'].to_numpy()"
   ]
  },
  {
   "cell_type": "markdown",
   "id": "635c3ee9",
   "metadata": {},
   "source": [
    "### Funcionamiento del código SVM"
   ]
  },
  {
   "cell_type": "markdown",
   "id": "cb162677",
   "metadata": {},
   "source": [
    "### Aplicación SVM a conjuntos de datos"
   ]
  },
  {
   "cell_type": "code",
   "execution_count": 25,
   "id": "7902170e",
   "metadata": {},
   "outputs": [],
   "source": [
    "from sklearn import svm\n",
    "from sklearn.metrics import confusion_matrix\n",
    "clf = svm.SVC()"
   ]
  },
  {
   "cell_type": "markdown",
   "id": "f818313a",
   "metadata": {},
   "source": [
    "### Banknote authentication "
   ]
  },
  {
   "cell_type": "code",
   "execution_count": 37,
   "id": "e6fdc264",
   "metadata": {},
   "outputs": [],
   "source": [
    "clf.fit(Xbn_train, ybn_train)\n",
    "pred_test = clf.predict(Xbn_test)"
   ]
  },
  {
   "cell_type": "code",
   "execution_count": 38,
   "id": "c3489445",
   "metadata": {},
   "outputs": [
    {
     "data": {
      "image/png": "[encoded data removed]",
      "text/plain": [
       "<Figure size 640x480 with 2 Axes>"
      ]
     },
     "metadata": {},
     "output_type": "display_data"
    }
   ],
   "source": [
    "plt.title(\"SVM Matriz de confusión para datos de prueba\", fontdict={'fontsize':16})\n",
    "ax = sns.heatmap(confusion_matrix(ybn_test, pred_test), annot=True, fmt=\"d\")"
   ]
  },
  {
   "cell_type": "code",
   "execution_count": 28,
   "id": "84ef3feb",
   "metadata": {},
   "outputs": [
    {
     "name": "stdout",
     "output_type": "stream",
     "text": [
      "Exactitud en datos de prueba: 100.00%\n"
     ]
    }
   ],
   "source": [
    "accuracy_test = accuracy_score(ybn_test, pred_test)\n",
    "print(f\"Exactitud en datos de prueba: {accuracy_test*100:.2f}%\")"
   ]
  },
  {
   "cell_type": "markdown",
   "id": "0b14d49f",
   "metadata": {},
   "source": [
    "### Occupancy Detection"
   ]
  },
  {
   "cell_type": "code",
   "execution_count": 41,
   "id": "59a7961e",
   "metadata": {},
   "outputs": [],
   "source": [
    "clf = svm.SVC()\n",
    "clf.fit(Xfod_train, yfod_train)\n",
    "\n",
    "pred_val = clf.predict(Xfod_val)\n",
    "pred_test = clf.predict(Xfod_test)"
   ]
  },
  {
   "cell_type": "code",
   "execution_count": 42,
   "id": "fa262262",
   "metadata": {},
   "outputs": [
    {
     "data": {
      "image/png": "[encoded data removed]",
      "text/plain": [
       "<Figure size 640x480 with 2 Axes>"
      ]
     },
     "metadata": {},
     "output_type": "display_data"
    }
   ],
   "source": [
    "plt.title(\"SVM Matriz de confusión para datos de validación\", fontdict={'fontsize':16})\n",
    "ax = sns.heatmap(confusion_matrix(yfod_val, pred_val), annot=True, fmt=\"d\")"
   ]
  },
  {
   "cell_type": "code",
   "execution_count": 43,
   "id": "c4b03182",
   "metadata": {},
   "outputs": [],
   "source": [
    "from sklearn.metrics import accuracy_score, precision_score, recall_score, f1_score"
   ]
  },
  {
   "cell_type": "code",
   "execution_count": 44,
   "id": "c8806c0b",
   "metadata": {},
   "outputs": [
    {
     "name": "stdout",
     "output_type": "stream",
     "text": [
      "Exactitud en datos de validación: 48.26%\n"
     ]
    }
   ],
   "source": [
    "accuracy_val = accuracy_score(yfod_val, pred_val)\n",
    "print(f\"Exactitud en datos de validación: {accuracy_val*100:.2f}%\")"
   ]
  },
  {
   "cell_type": "code",
   "execution_count": 45,
   "id": "e6e19e9c",
   "metadata": {},
   "outputs": [
    {
     "data": {
      "image/png": "[encoded data removed]",
      "text/plain": [
       "<Figure size 640x480 with 2 Axes>"
      ]
     },
     "metadata": {},
     "output_type": "display_data"
    }
   ],
   "source": [
    "plt.title(\"SVM Matriz de confusión para datos de prueba\", fontdict={'fontsize':16})\n",
    "ax = sns.heatmap(confusion_matrix(yfod_test, pred_test), annot=True, fmt=\"d\")"
   ]
  },
  {
   "cell_type": "code",
   "execution_count": 34,
   "id": "8a4acf08",
   "metadata": {},
   "outputs": [
    {
     "name": "stdout",
     "output_type": "stream",
     "text": [
      "Exactitud en datos de prueba: 70.21%\n"
     ]
    }
   ],
   "source": [
    "accuracy_test = accuracy_score(yfod_test, pred_test)\n",
    "print(f\"Exactitud en datos de prueba: {accuracy_test*100:.2f}%\")"
   ]
  },
  {
   "cell_type": "code",
   "execution_count": null,
   "id": "436dda03",
   "metadata": {},
   "outputs": [],
   "source": []
  }
 ],
 "metadata": {
  "kernelspec": {
   "display_name": "Python 3 (ipykernel)",
   "language": "python",
   "name": "python3"
  },
  "language_info": {
   "codemirror_mode": {
    "name": "ipython",
    "version": 3
   },
   "file_extension": ".py",
   "mimetype": "text/x-python",
   "name": "python",
   "nbconvert_exporter": "python",
   "pygments_lexer": "ipython3",
   "version": "3.11.0"
  }
 },
 "nbformat": 4,
 "nbformat_minor": 5
}
