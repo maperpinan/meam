{
 "cells": [
  {
   "cell_type": "markdown",
   "id": "2b79efef",
   "metadata": {},
   "source": [
    "### Estructura del notebook\n",
    "\n",
    "1. Introducción de librerias a utilizar y presentación inicial de los conjuntos de datos.\n",
    "2. Respuesta a las preguntas 1 a 3. \n",
    "3. Analisis exploratorio del conjunto de datos Occupancy Detection (después de responder las primeras cuatro preguntas se llegó a la conclusión de que el conjunto de datos que podía garantizar generalización era el de Occupancy Detection por lo tanto es el enfoque del notebook y el unico que va a ser utilizado para continuar con las demás preguntas). \n",
    "4. Respuesta a las preguntas 4 a 6.\n",
    "5. Aplicación del mismo problema usando Regresión logistica y Arboles de decisión. "
   ]
  },
  {
   "cell_type": "markdown",
   "id": "504623ba",
   "metadata": {},
   "source": [
    "### Introducción"
   ]
  },
  {
   "cell_type": "code",
   "execution_count": 16,
   "id": "a87e03d6",
   "metadata": {},
   "outputs": [],
   "source": [
    "import pandas as pd\n",
    "import numpy as np\n",
    "import sklearn\n",
    "\n",
    "from sklearn.preprocessing import MinMaxScaler\n",
    "from sklearn.model_selection import train_test_split\n",
    "from sklearn.linear_model import Perceptron\n",
    "from scipy import stats\n",
    "from sklearn.metrics import accuracy_score\n",
    "from sklearn import datasets\n",
    "\n",
    "# Primer dataset - Banknote authentication Data Set \n",
    "df1 = pd.read_csv('data_banknote_authentication.txt', header=None, names = ['variance', 'skewness', 'curtosis', 'entropy', \n",
    "                                                                            'class'])\n",
    "\n",
    "# Segundo dataset - Occupancy Detection Data Set\n",
    "df2_train = pd.read_csv('datatraining.txt', parse_dates = ['date'])\n",
    "df2_validation = pd.read_csv('datatest.txt', parse_dates = ['date'])\n",
    "df2_test = pd.read_csv('datatest2.txt', parse_dates = ['date']) "
   ]
  },
  {
   "cell_type": "code",
   "execution_count": 2,
   "id": "2e17dda0",
   "metadata": {},
   "outputs": [
    {
     "data": {
      "text/html": [
       "<div>\n",
       "<style scoped>\n",
       "    .dataframe tbody tr th:only-of-type {\n",
       "        vertical-align: middle;\n",
       "    }\n",
       "\n",
       "    .dataframe tbody tr th {\n",
       "        vertical-align: top;\n",
       "    }\n",
       "\n",
       "    .dataframe thead th {\n",
       "        text-align: right;\n",
       "    }\n",
       "</style>\n",
       "<table border=\"1\" class=\"dataframe\">\n",
       "  <thead>\n",
       "    <tr style=\"text-align: right;\">\n",
       "      <th></th>\n",
       "      <th>variance</th>\n",
       "      <th>skewness</th>\n",
       "      <th>curtosis</th>\n",
       "      <th>entropy</th>\n",
       "      <th>class</th>\n",
       "    </tr>\n",
       "  </thead>\n",
       "  <tbody>\n",
       "    <tr>\n",
       "      <th>0</th>\n",
       "      <td>3.62160</td>\n",
       "      <td>8.6661</td>\n",
       "      <td>-2.8073</td>\n",
       "      <td>-0.44699</td>\n",
       "      <td>0</td>\n",
       "    </tr>\n",
       "    <tr>\n",
       "      <th>1</th>\n",
       "      <td>4.54590</td>\n",
       "      <td>8.1674</td>\n",
       "      <td>-2.4586</td>\n",
       "      <td>-1.46210</td>\n",
       "      <td>0</td>\n",
       "    </tr>\n",
       "    <tr>\n",
       "      <th>2</th>\n",
       "      <td>3.86600</td>\n",
       "      <td>-2.6383</td>\n",
       "      <td>1.9242</td>\n",
       "      <td>0.10645</td>\n",
       "      <td>0</td>\n",
       "    </tr>\n",
       "    <tr>\n",
       "      <th>3</th>\n",
       "      <td>3.45660</td>\n",
       "      <td>9.5228</td>\n",
       "      <td>-4.0112</td>\n",
       "      <td>-3.59440</td>\n",
       "      <td>0</td>\n",
       "    </tr>\n",
       "    <tr>\n",
       "      <th>4</th>\n",
       "      <td>0.32924</td>\n",
       "      <td>-4.4552</td>\n",
       "      <td>4.5718</td>\n",
       "      <td>-0.98880</td>\n",
       "      <td>0</td>\n",
       "    </tr>\n",
       "  </tbody>\n",
       "</table>\n",
       "</div>"
      ],
      "text/plain": [
       "   variance  skewness  curtosis  entropy  class\n",
       "0   3.62160    8.6661   -2.8073 -0.44699      0\n",
       "1   4.54590    8.1674   -2.4586 -1.46210      0\n",
       "2   3.86600   -2.6383    1.9242  0.10645      0\n",
       "3   3.45660    9.5228   -4.0112 -3.59440      0\n",
       "4   0.32924   -4.4552    4.5718 -0.98880      0"
      ]
     },
     "execution_count": 2,
     "metadata": {},
     "output_type": "execute_result"
    }
   ],
   "source": [
    "df1.head()"
   ]
  },
  {
   "cell_type": "code",
   "execution_count": 3,
   "id": "e62b548a",
   "metadata": {},
   "outputs": [
    {
     "data": {
      "text/html": [
       "<div>\n",
       "<style scoped>\n",
       "    .dataframe tbody tr th:only-of-type {\n",
       "        vertical-align: middle;\n",
       "    }\n",
       "\n",
       "    .dataframe tbody tr th {\n",
       "        vertical-align: top;\n",
       "    }\n",
       "\n",
       "    .dataframe thead th {\n",
       "        text-align: right;\n",
       "    }\n",
       "</style>\n",
       "<table border=\"1\" class=\"dataframe\">\n",
       "  <thead>\n",
       "    <tr style=\"text-align: right;\">\n",
       "      <th></th>\n",
       "      <th>date</th>\n",
       "      <th>Temperature</th>\n",
       "      <th>Humidity</th>\n",
       "      <th>Light</th>\n",
       "      <th>CO2</th>\n",
       "      <th>HumidityRatio</th>\n",
       "      <th>Occupancy</th>\n",
       "    </tr>\n",
       "  </thead>\n",
       "  <tbody>\n",
       "    <tr>\n",
       "      <th>1</th>\n",
       "      <td>2015-02-04 17:51:00</td>\n",
       "      <td>23.18</td>\n",
       "      <td>27.2720</td>\n",
       "      <td>426.0</td>\n",
       "      <td>721.25</td>\n",
       "      <td>0.004793</td>\n",
       "      <td>1</td>\n",
       "    </tr>\n",
       "    <tr>\n",
       "      <th>2</th>\n",
       "      <td>2015-02-04 17:51:59</td>\n",
       "      <td>23.15</td>\n",
       "      <td>27.2675</td>\n",
       "      <td>429.5</td>\n",
       "      <td>714.00</td>\n",
       "      <td>0.004783</td>\n",
       "      <td>1</td>\n",
       "    </tr>\n",
       "    <tr>\n",
       "      <th>3</th>\n",
       "      <td>2015-02-04 17:53:00</td>\n",
       "      <td>23.15</td>\n",
       "      <td>27.2450</td>\n",
       "      <td>426.0</td>\n",
       "      <td>713.50</td>\n",
       "      <td>0.004779</td>\n",
       "      <td>1</td>\n",
       "    </tr>\n",
       "    <tr>\n",
       "      <th>4</th>\n",
       "      <td>2015-02-04 17:54:00</td>\n",
       "      <td>23.15</td>\n",
       "      <td>27.2000</td>\n",
       "      <td>426.0</td>\n",
       "      <td>708.25</td>\n",
       "      <td>0.004772</td>\n",
       "      <td>1</td>\n",
       "    </tr>\n",
       "    <tr>\n",
       "      <th>5</th>\n",
       "      <td>2015-02-04 17:55:00</td>\n",
       "      <td>23.10</td>\n",
       "      <td>27.2000</td>\n",
       "      <td>426.0</td>\n",
       "      <td>704.50</td>\n",
       "      <td>0.004757</td>\n",
       "      <td>1</td>\n",
       "    </tr>\n",
       "  </tbody>\n",
       "</table>\n",
       "</div>"
      ],
      "text/plain": [
       "                 date  Temperature  Humidity  Light     CO2  HumidityRatio  \\\n",
       "1 2015-02-04 17:51:00        23.18   27.2720  426.0  721.25       0.004793   \n",
       "2 2015-02-04 17:51:59        23.15   27.2675  429.5  714.00       0.004783   \n",
       "3 2015-02-04 17:53:00        23.15   27.2450  426.0  713.50       0.004779   \n",
       "4 2015-02-04 17:54:00        23.15   27.2000  426.0  708.25       0.004772   \n",
       "5 2015-02-04 17:55:00        23.10   27.2000  426.0  704.50       0.004757   \n",
       "\n",
       "   Occupancy  \n",
       "1          1  \n",
       "2          1  \n",
       "3          1  \n",
       "4          1  \n",
       "5          1  "
      ]
     },
     "execution_count": 3,
     "metadata": {},
     "output_type": "execute_result"
    }
   ],
   "source": [
    "df2_train.head()"
   ]
  },
  {
   "cell_type": "markdown",
   "id": "d11deb6f",
   "metadata": {},
   "source": [
    "### Analisis exploratorio del conjunto de datos Banknote authentication"
   ]
  },
  {
   "cell_type": "markdown",
   "id": "b36a05dc",
   "metadata": {},
   "source": [
    "Para este conjunto de datos no se ve la necesidad de normalizar columnas y tampoco hay problemas de valores faltantes por lo tanto solo se va a organizar y dividir en set de entrenamiento y prueba (no se agrega validación debido a la cantidad limitada de registros)"
   ]
  },
  {
   "cell_type": "code",
   "execution_count": 4,
   "id": "1ca124e2",
   "metadata": {},
   "outputs": [],
   "source": [
    "X1 = df1.drop(['class'], axis=1).to_numpy()\n",
    "y1 = df1['class'].to_numpy()"
   ]
  },
  {
   "cell_type": "markdown",
   "id": "797470dd",
   "metadata": {},
   "source": [
    "Separamos las variables predictoras (X) y de respuesta (Y) de cada conjunto de datos"
   ]
  },
  {
   "cell_type": "code",
   "execution_count": 5,
   "id": "73ca762f",
   "metadata": {},
   "outputs": [],
   "source": [
    "X1_train, X1_test, y1_train, y1_test = train_test_split(X1, y1, test_size=0.33, random_state=42)"
   ]
  },
  {
   "cell_type": "markdown",
   "id": "c62ac87f",
   "metadata": {},
   "source": [
    "### Analisis exploratorio del conjunto de datos Occupancy Detection"
   ]
  },
  {
   "cell_type": "code",
   "execution_count": 17,
   "id": "147f0b3a",
   "metadata": {},
   "outputs": [
    {
     "name": "stdout",
     "output_type": "stream",
     "text": [
      "<class 'pandas.core.frame.DataFrame'>\n",
      "Index: 8143 entries, 1 to 8143\n",
      "Data columns (total 7 columns):\n",
      " #   Column         Non-Null Count  Dtype         \n",
      "---  ------         --------------  -----         \n",
      " 0   date           8143 non-null   datetime64[ns]\n",
      " 1   Temperature    8143 non-null   float64       \n",
      " 2   Humidity       8143 non-null   float64       \n",
      " 3   Light          8143 non-null   float64       \n",
      " 4   CO2            8143 non-null   float64       \n",
      " 5   HumidityRatio  8143 non-null   float64       \n",
      " 6   Occupancy      8143 non-null   int64         \n",
      "dtypes: datetime64[ns](1), float64(5), int64(1)\n",
      "memory usage: 508.9+ KB\n"
     ]
    },
    {
     "data": {
      "text/html": [
       "<div>\n",
       "<style scoped>\n",
       "    .dataframe tbody tr th:only-of-type {\n",
       "        vertical-align: middle;\n",
       "    }\n",
       "\n",
       "    .dataframe tbody tr th {\n",
       "        vertical-align: top;\n",
       "    }\n",
       "\n",
       "    .dataframe thead th {\n",
       "        text-align: right;\n",
       "    }\n",
       "</style>\n",
       "<table border=\"1\" class=\"dataframe\">\n",
       "  <thead>\n",
       "    <tr style=\"text-align: right;\">\n",
       "      <th></th>\n",
       "      <th>Temperature</th>\n",
       "      <th>Humidity</th>\n",
       "      <th>Light</th>\n",
       "      <th>CO2</th>\n",
       "      <th>HumidityRatio</th>\n",
       "      <th>Occupancy</th>\n",
       "    </tr>\n",
       "  </thead>\n",
       "  <tbody>\n",
       "    <tr>\n",
       "      <th>count</th>\n",
       "      <td>8143.000000</td>\n",
       "      <td>8143.000000</td>\n",
       "      <td>8143.000000</td>\n",
       "      <td>8143.000000</td>\n",
       "      <td>8143.000000</td>\n",
       "      <td>8143.000000</td>\n",
       "    </tr>\n",
       "    <tr>\n",
       "      <th>mean</th>\n",
       "      <td>20.619084</td>\n",
       "      <td>25.731507</td>\n",
       "      <td>119.519375</td>\n",
       "      <td>606.546243</td>\n",
       "      <td>0.003863</td>\n",
       "      <td>0.212330</td>\n",
       "    </tr>\n",
       "    <tr>\n",
       "      <th>std</th>\n",
       "      <td>1.016916</td>\n",
       "      <td>5.531211</td>\n",
       "      <td>194.755805</td>\n",
       "      <td>314.320877</td>\n",
       "      <td>0.000852</td>\n",
       "      <td>0.408982</td>\n",
       "    </tr>\n",
       "    <tr>\n",
       "      <th>min</th>\n",
       "      <td>19.000000</td>\n",
       "      <td>16.745000</td>\n",
       "      <td>0.000000</td>\n",
       "      <td>412.750000</td>\n",
       "      <td>0.002674</td>\n",
       "      <td>0.000000</td>\n",
       "    </tr>\n",
       "    <tr>\n",
       "      <th>25%</th>\n",
       "      <td>19.700000</td>\n",
       "      <td>20.200000</td>\n",
       "      <td>0.000000</td>\n",
       "      <td>439.000000</td>\n",
       "      <td>0.003078</td>\n",
       "      <td>0.000000</td>\n",
       "    </tr>\n",
       "    <tr>\n",
       "      <th>50%</th>\n",
       "      <td>20.390000</td>\n",
       "      <td>26.222500</td>\n",
       "      <td>0.000000</td>\n",
       "      <td>453.500000</td>\n",
       "      <td>0.003801</td>\n",
       "      <td>0.000000</td>\n",
       "    </tr>\n",
       "    <tr>\n",
       "      <th>75%</th>\n",
       "      <td>21.390000</td>\n",
       "      <td>30.533333</td>\n",
       "      <td>256.375000</td>\n",
       "      <td>638.833333</td>\n",
       "      <td>0.004352</td>\n",
       "      <td>0.000000</td>\n",
       "    </tr>\n",
       "    <tr>\n",
       "      <th>max</th>\n",
       "      <td>23.180000</td>\n",
       "      <td>39.117500</td>\n",
       "      <td>1546.333333</td>\n",
       "      <td>2028.500000</td>\n",
       "      <td>0.006476</td>\n",
       "      <td>1.000000</td>\n",
       "    </tr>\n",
       "  </tbody>\n",
       "</table>\n",
       "</div>"
      ],
      "text/plain": [
       "       Temperature     Humidity        Light          CO2  HumidityRatio  \\\n",
       "count  8143.000000  8143.000000  8143.000000  8143.000000    8143.000000   \n",
       "mean     20.619084    25.731507   119.519375   606.546243       0.003863   \n",
       "std       1.016916     5.531211   194.755805   314.320877       0.000852   \n",
       "min      19.000000    16.745000     0.000000   412.750000       0.002674   \n",
       "25%      19.700000    20.200000     0.000000   439.000000       0.003078   \n",
       "50%      20.390000    26.222500     0.000000   453.500000       0.003801   \n",
       "75%      21.390000    30.533333   256.375000   638.833333       0.004352   \n",
       "max      23.180000    39.117500  1546.333333  2028.500000       0.006476   \n",
       "\n",
       "         Occupancy  \n",
       "count  8143.000000  \n",
       "mean      0.212330  \n",
       "std       0.408982  \n",
       "min       0.000000  \n",
       "25%       0.000000  \n",
       "50%       0.000000  \n",
       "75%       0.000000  \n",
       "max       1.000000  "
      ]
     },
     "execution_count": 17,
     "metadata": {},
     "output_type": "execute_result"
    }
   ],
   "source": [
    "df2_train.info()\n",
    "df2_train.describe()"
   ]
  },
  {
   "cell_type": "code",
   "execution_count": 18,
   "id": "90488413",
   "metadata": {},
   "outputs": [],
   "source": [
    "# Organización del dataset\n",
    "# El set de datos 2 ya viene dividido en el conjunto de datos de entrenamiento, validacion y prueba\n",
    "\n",
    "df2_train.columns = df2_train.columns.str.lower()\n",
    "df2_validation.columns = df2_validation.columns.str.lower()\n",
    "df2_test.columns = df2_test.columns.str.lower()"
   ]
  },
  {
   "cell_type": "markdown",
   "id": "83e35742",
   "metadata": {},
   "source": [
    "Dado que tenemos valores bajos de de humedad relativa y valores altos como la luz y el CO2 debemos normalizar los datos para simplificar el proceso de aprendizaje."
   ]
  },
  {
   "cell_type": "code",
   "execution_count": 19,
   "id": "b18cd07b",
   "metadata": {},
   "outputs": [
    {
     "data": {
      "text/html": [
       "<div>\n",
       "<style scoped>\n",
       "    .dataframe tbody tr th:only-of-type {\n",
       "        vertical-align: middle;\n",
       "    }\n",
       "\n",
       "    .dataframe tbody tr th {\n",
       "        vertical-align: top;\n",
       "    }\n",
       "\n",
       "    .dataframe thead th {\n",
       "        text-align: right;\n",
       "    }\n",
       "</style>\n",
       "<table border=\"1\" class=\"dataframe\">\n",
       "  <thead>\n",
       "    <tr style=\"text-align: right;\">\n",
       "      <th></th>\n",
       "      <th>temperature</th>\n",
       "      <th>humidity</th>\n",
       "      <th>light</th>\n",
       "      <th>co2</th>\n",
       "      <th>humidityratio</th>\n",
       "      <th>occupancy</th>\n",
       "    </tr>\n",
       "  </thead>\n",
       "  <tbody>\n",
       "    <tr>\n",
       "      <th>count</th>\n",
       "      <td>8143.000000</td>\n",
       "      <td>8143.000000</td>\n",
       "      <td>8143.000000</td>\n",
       "      <td>8143.000000</td>\n",
       "      <td>8143.000000</td>\n",
       "      <td>8143.000000</td>\n",
       "    </tr>\n",
       "    <tr>\n",
       "      <th>mean</th>\n",
       "      <td>0.387341</td>\n",
       "      <td>0.401676</td>\n",
       "      <td>0.077292</td>\n",
       "      <td>0.119942</td>\n",
       "      <td>0.312576</td>\n",
       "      <td>0.212330</td>\n",
       "    </tr>\n",
       "    <tr>\n",
       "      <th>std</th>\n",
       "      <td>0.243281</td>\n",
       "      <td>0.247233</td>\n",
       "      <td>0.125947</td>\n",
       "      <td>0.194536</td>\n",
       "      <td>0.224186</td>\n",
       "      <td>0.408982</td>\n",
       "    </tr>\n",
       "    <tr>\n",
       "      <th>min</th>\n",
       "      <td>0.000000</td>\n",
       "      <td>0.000000</td>\n",
       "      <td>0.000000</td>\n",
       "      <td>0.000000</td>\n",
       "      <td>0.000000</td>\n",
       "      <td>0.000000</td>\n",
       "    </tr>\n",
       "    <tr>\n",
       "      <th>25%</th>\n",
       "      <td>0.167464</td>\n",
       "      <td>0.154431</td>\n",
       "      <td>0.000000</td>\n",
       "      <td>0.016246</td>\n",
       "      <td>0.106304</td>\n",
       "      <td>0.000000</td>\n",
       "    </tr>\n",
       "    <tr>\n",
       "      <th>50%</th>\n",
       "      <td>0.332536</td>\n",
       "      <td>0.423623</td>\n",
       "      <td>0.000000</td>\n",
       "      <td>0.025220</td>\n",
       "      <td>0.296338</td>\n",
       "      <td>0.000000</td>\n",
       "    </tr>\n",
       "    <tr>\n",
       "      <th>75%</th>\n",
       "      <td>0.571770</td>\n",
       "      <td>0.616307</td>\n",
       "      <td>0.165795</td>\n",
       "      <td>0.139925</td>\n",
       "      <td>0.441308</td>\n",
       "      <td>0.000000</td>\n",
       "    </tr>\n",
       "    <tr>\n",
       "      <th>max</th>\n",
       "      <td>1.000000</td>\n",
       "      <td>1.000000</td>\n",
       "      <td>1.000000</td>\n",
       "      <td>1.000000</td>\n",
       "      <td>1.000000</td>\n",
       "      <td>1.000000</td>\n",
       "    </tr>\n",
       "  </tbody>\n",
       "</table>\n",
       "</div>"
      ],
      "text/plain": [
       "       temperature     humidity        light          co2  humidityratio  \\\n",
       "count  8143.000000  8143.000000  8143.000000  8143.000000    8143.000000   \n",
       "mean      0.387341     0.401676     0.077292     0.119942       0.312576   \n",
       "std       0.243281     0.247233     0.125947     0.194536       0.224186   \n",
       "min       0.000000     0.000000     0.000000     0.000000       0.000000   \n",
       "25%       0.167464     0.154431     0.000000     0.016246       0.106304   \n",
       "50%       0.332536     0.423623     0.000000     0.025220       0.296338   \n",
       "75%       0.571770     0.616307     0.165795     0.139925       0.441308   \n",
       "max       1.000000     1.000000     1.000000     1.000000       1.000000   \n",
       "\n",
       "         occupancy  \n",
       "count  8143.000000  \n",
       "mean      0.212330  \n",
       "std       0.408982  \n",
       "min       0.000000  \n",
       "25%       0.000000  \n",
       "50%       0.000000  \n",
       "75%       0.000000  \n",
       "max       1.000000  "
      ]
     },
     "execution_count": 19,
     "metadata": {},
     "output_type": "execute_result"
    }
   ],
   "source": [
    "scaler = MinMaxScaler()\n",
    "columns = ['temperature', 'humidity', 'light', 'co2', 'humidityratio']\n",
    "\n",
    "# Se entrena el algoritmo usando el conjunto de datos de entrenamiento\n",
    "scaler.fit(np.array(df2_train[columns]))\n",
    "\n",
    "# Se aplica el algoritmoa todas los conjuntos de datos\n",
    "df2_validation[columns] = scaler.transform(np.array(df2_validation[columns]))\n",
    "df2_test[columns] = scaler.transform(np.array(df2_test[columns]))\n",
    "df2_train[columns] = scaler.transform(np.array(df2_train[columns]))\n",
    "\n",
    "df2_train.describe()"
   ]
  },
  {
   "cell_type": "markdown",
   "id": "627a89d6",
   "metadata": {},
   "source": [
    "El tiempo lo vamos a manejar en horas y en días de semana"
   ]
  },
  {
   "cell_type": "code",
   "execution_count": 20,
   "id": "d3b94251",
   "metadata": {},
   "outputs": [],
   "source": [
    "# Aplicación conjunto de datos de entrenamiento\n",
    "#df2_train['week_day'] = df2_train['date'].dt.day_name()\n",
    "df2_train['week_day'] = df2_train['date'].dt.weekday \n",
    "df2_train['hour'] = df2_train['date'].dt.hour\n",
    "\n",
    "# Aplicación a los demás conjuntos de datos\n",
    "#df2_validation['week_day'] = df2_validation['date'].dt.day_name()\n",
    "df2_validation['week_day'] = df2_validation['date'].dt.weekday\n",
    "df2_validation['hour'] = df2_validation['date'].dt.hour\n",
    "\n",
    "#df2_test['week_day'] = df2_test['date'].dt.day_name()\n",
    "df2_test['week_day'] = df2_test['date'].dt.weekday\n",
    "df2_test['hour'] = df2_test['date'].dt.hour \n",
    "\n",
    "#NOTA: Lunes es el día 0 y Domingo es el 6"
   ]
  },
  {
   "cell_type": "code",
   "execution_count": 21,
   "id": "b62d5cfb",
   "metadata": {},
   "outputs": [
    {
     "data": {
      "text/html": [
       "<div>\n",
       "<style scoped>\n",
       "    .dataframe tbody tr th:only-of-type {\n",
       "        vertical-align: middle;\n",
       "    }\n",
       "\n",
       "    .dataframe tbody tr th {\n",
       "        vertical-align: top;\n",
       "    }\n",
       "\n",
       "    .dataframe thead th {\n",
       "        text-align: right;\n",
       "    }\n",
       "</style>\n",
       "<table border=\"1\" class=\"dataframe\">\n",
       "  <thead>\n",
       "    <tr style=\"text-align: right;\">\n",
       "      <th></th>\n",
       "      <th>date</th>\n",
       "      <th>temperature</th>\n",
       "      <th>humidity</th>\n",
       "      <th>light</th>\n",
       "      <th>co2</th>\n",
       "      <th>humidityratio</th>\n",
       "      <th>occupancy</th>\n",
       "      <th>week_day</th>\n",
       "      <th>hour</th>\n",
       "    </tr>\n",
       "  </thead>\n",
       "  <tbody>\n",
       "    <tr>\n",
       "      <th>1</th>\n",
       "      <td>2015-02-04 17:51:00</td>\n",
       "      <td>1.000000</td>\n",
       "      <td>0.470533</td>\n",
       "      <td>0.275490</td>\n",
       "      <td>0.190933</td>\n",
       "      <td>0.557318</td>\n",
       "      <td>1</td>\n",
       "      <td>2</td>\n",
       "      <td>17</td>\n",
       "    </tr>\n",
       "    <tr>\n",
       "      <th>2</th>\n",
       "      <td>2015-02-04 17:51:59</td>\n",
       "      <td>0.992823</td>\n",
       "      <td>0.470332</td>\n",
       "      <td>0.277754</td>\n",
       "      <td>0.186446</td>\n",
       "      <td>0.554807</td>\n",
       "      <td>1</td>\n",
       "      <td>2</td>\n",
       "      <td>17</td>\n",
       "    </tr>\n",
       "    <tr>\n",
       "      <th>3</th>\n",
       "      <td>2015-02-04 17:53:00</td>\n",
       "      <td>0.992823</td>\n",
       "      <td>0.469326</td>\n",
       "      <td>0.275490</td>\n",
       "      <td>0.186136</td>\n",
       "      <td>0.553761</td>\n",
       "      <td>1</td>\n",
       "      <td>2</td>\n",
       "      <td>17</td>\n",
       "    </tr>\n",
       "    <tr>\n",
       "      <th>4</th>\n",
       "      <td>2015-02-04 17:54:00</td>\n",
       "      <td>0.992823</td>\n",
       "      <td>0.467315</td>\n",
       "      <td>0.275490</td>\n",
       "      <td>0.182887</td>\n",
       "      <td>0.551669</td>\n",
       "      <td>1</td>\n",
       "      <td>2</td>\n",
       "      <td>17</td>\n",
       "    </tr>\n",
       "    <tr>\n",
       "      <th>5</th>\n",
       "      <td>2015-02-04 17:55:00</td>\n",
       "      <td>0.980861</td>\n",
       "      <td>0.467315</td>\n",
       "      <td>0.275490</td>\n",
       "      <td>0.180566</td>\n",
       "      <td>0.547851</td>\n",
       "      <td>1</td>\n",
       "      <td>2</td>\n",
       "      <td>17</td>\n",
       "    </tr>\n",
       "  </tbody>\n",
       "</table>\n",
       "</div>"
      ],
      "text/plain": [
       "                 date  temperature  humidity     light       co2  \\\n",
       "1 2015-02-04 17:51:00     1.000000  0.470533  0.275490  0.190933   \n",
       "2 2015-02-04 17:51:59     0.992823  0.470332  0.277754  0.186446   \n",
       "3 2015-02-04 17:53:00     0.992823  0.469326  0.275490  0.186136   \n",
       "4 2015-02-04 17:54:00     0.992823  0.467315  0.275490  0.182887   \n",
       "5 2015-02-04 17:55:00     0.980861  0.467315  0.275490  0.180566   \n",
       "\n",
       "   humidityratio  occupancy  week_day  hour  \n",
       "1       0.557318          1         2    17  \n",
       "2       0.554807          1         2    17  \n",
       "3       0.553761          1         2    17  \n",
       "4       0.551669          1         2    17  \n",
       "5       0.547851          1         2    17  "
      ]
     },
     "execution_count": 21,
     "metadata": {},
     "output_type": "execute_result"
    }
   ],
   "source": [
    "df2_train.head() "
   ]
  },
  {
   "cell_type": "code",
   "execution_count": 22,
   "id": "5d1f2bf0",
   "metadata": {},
   "outputs": [
    {
     "data": {
      "text/html": [
       "<div>\n",
       "<style scoped>\n",
       "    .dataframe tbody tr th:only-of-type {\n",
       "        vertical-align: middle;\n",
       "    }\n",
       "\n",
       "    .dataframe tbody tr th {\n",
       "        vertical-align: top;\n",
       "    }\n",
       "\n",
       "    .dataframe thead th {\n",
       "        text-align: right;\n",
       "    }\n",
       "</style>\n",
       "<table border=\"1\" class=\"dataframe\">\n",
       "  <thead>\n",
       "    <tr style=\"text-align: right;\">\n",
       "      <th></th>\n",
       "      <th>date</th>\n",
       "      <th>temperature</th>\n",
       "      <th>humidity</th>\n",
       "      <th>light</th>\n",
       "      <th>co2</th>\n",
       "      <th>humidityratio</th>\n",
       "      <th>occupancy</th>\n",
       "      <th>week_day</th>\n",
       "      <th>hour</th>\n",
       "    </tr>\n",
       "  </thead>\n",
       "  <tbody>\n",
       "    <tr>\n",
       "      <th>140</th>\n",
       "      <td>2015-02-02 14:19:00</td>\n",
       "      <td>1.124402</td>\n",
       "      <td>0.425835</td>\n",
       "      <td>0.378444</td>\n",
       "      <td>0.208231</td>\n",
       "      <td>0.549737</td>\n",
       "      <td>1</td>\n",
       "      <td>0</td>\n",
       "      <td>14</td>\n",
       "    </tr>\n",
       "    <tr>\n",
       "      <th>141</th>\n",
       "      <td>2015-02-02 14:19:59</td>\n",
       "      <td>1.128708</td>\n",
       "      <td>0.426640</td>\n",
       "      <td>0.374046</td>\n",
       "      <td>0.215163</td>\n",
       "      <td>0.551972</td>\n",
       "      <td>1</td>\n",
       "      <td>0</td>\n",
       "      <td>14</td>\n",
       "    </tr>\n",
       "    <tr>\n",
       "      <th>142</th>\n",
       "      <td>2015-02-02 14:21:00</td>\n",
       "      <td>1.131579</td>\n",
       "      <td>0.423958</td>\n",
       "      <td>0.370338</td>\n",
       "      <td>0.220898</td>\n",
       "      <td>0.549997</td>\n",
       "      <td>1</td>\n",
       "      <td>0</td>\n",
       "      <td>14</td>\n",
       "    </tr>\n",
       "    <tr>\n",
       "      <th>143</th>\n",
       "      <td>2015-02-02 14:22:00</td>\n",
       "      <td>1.129785</td>\n",
       "      <td>0.419265</td>\n",
       "      <td>0.319304</td>\n",
       "      <td>0.224045</td>\n",
       "      <td>0.544374</td>\n",
       "      <td>1</td>\n",
       "      <td>0</td>\n",
       "      <td>14</td>\n",
       "    </tr>\n",
       "    <tr>\n",
       "      <th>144</th>\n",
       "      <td>2015-02-02 14:23:00</td>\n",
       "      <td>1.137321</td>\n",
       "      <td>0.422617</td>\n",
       "      <td>0.315973</td>\n",
       "      <td>0.226675</td>\n",
       "      <td>0.550376</td>\n",
       "      <td>1</td>\n",
       "      <td>0</td>\n",
       "      <td>14</td>\n",
       "    </tr>\n",
       "  </tbody>\n",
       "</table>\n",
       "</div>"
      ],
      "text/plain": [
       "                   date  temperature  humidity     light       co2  \\\n",
       "140 2015-02-02 14:19:00     1.124402  0.425835  0.378444  0.208231   \n",
       "141 2015-02-02 14:19:59     1.128708  0.426640  0.374046  0.215163   \n",
       "142 2015-02-02 14:21:00     1.131579  0.423958  0.370338  0.220898   \n",
       "143 2015-02-02 14:22:00     1.129785  0.419265  0.319304  0.224045   \n",
       "144 2015-02-02 14:23:00     1.137321  0.422617  0.315973  0.226675   \n",
       "\n",
       "     humidityratio  occupancy  week_day  hour  \n",
       "140       0.549737          1         0    14  \n",
       "141       0.551972          1         0    14  \n",
       "142       0.549997          1         0    14  \n",
       "143       0.544374          1         0    14  \n",
       "144       0.550376          1         0    14  "
      ]
     },
     "execution_count": 22,
     "metadata": {},
     "output_type": "execute_result"
    }
   ],
   "source": [
    "df2_validation.head()"
   ]
  },
  {
   "cell_type": "code",
   "execution_count": 23,
   "id": "083bca82",
   "metadata": {},
   "outputs": [
    {
     "data": {
      "text/html": [
       "<div>\n",
       "<style scoped>\n",
       "    .dataframe tbody tr th:only-of-type {\n",
       "        vertical-align: middle;\n",
       "    }\n",
       "\n",
       "    .dataframe tbody tr th {\n",
       "        vertical-align: top;\n",
       "    }\n",
       "\n",
       "    .dataframe thead th {\n",
       "        text-align: right;\n",
       "    }\n",
       "</style>\n",
       "<table border=\"1\" class=\"dataframe\">\n",
       "  <thead>\n",
       "    <tr style=\"text-align: right;\">\n",
       "      <th></th>\n",
       "      <th>date</th>\n",
       "      <th>temperature</th>\n",
       "      <th>humidity</th>\n",
       "      <th>light</th>\n",
       "      <th>co2</th>\n",
       "      <th>humidityratio</th>\n",
       "      <th>occupancy</th>\n",
       "      <th>week_day</th>\n",
       "      <th>hour</th>\n",
       "    </tr>\n",
       "  </thead>\n",
       "  <tbody>\n",
       "    <tr>\n",
       "      <th>1</th>\n",
       "      <td>2015-02-11 14:48:00</td>\n",
       "      <td>0.660287</td>\n",
       "      <td>0.643126</td>\n",
       "      <td>0.282820</td>\n",
       "      <td>0.381814</td>\n",
       "      <td>0.617295</td>\n",
       "      <td>1</td>\n",
       "      <td>2</td>\n",
       "      <td>14</td>\n",
       "    </tr>\n",
       "    <tr>\n",
       "      <th>2</th>\n",
       "      <td>2015-02-11 14:49:00</td>\n",
       "      <td>0.667464</td>\n",
       "      <td>0.637166</td>\n",
       "      <td>0.282820</td>\n",
       "      <td>0.363454</td>\n",
       "      <td>0.614025</td>\n",
       "      <td>1</td>\n",
       "      <td>2</td>\n",
       "      <td>14</td>\n",
       "    </tr>\n",
       "    <tr>\n",
       "      <th>3</th>\n",
       "      <td>2015-02-11 14:50:00</td>\n",
       "      <td>0.662081</td>\n",
       "      <td>0.642642</td>\n",
       "      <td>0.280664</td>\n",
       "      <td>0.365774</td>\n",
       "      <td>0.617441</td>\n",
       "      <td>1</td>\n",
       "      <td>2</td>\n",
       "      <td>14</td>\n",
       "    </tr>\n",
       "    <tr>\n",
       "      <th>4</th>\n",
       "      <td>2015-02-11 14:51:00</td>\n",
       "      <td>0.662081</td>\n",
       "      <td>0.642642</td>\n",
       "      <td>0.283897</td>\n",
       "      <td>0.369333</td>\n",
       "      <td>0.617441</td>\n",
       "      <td>1</td>\n",
       "      <td>2</td>\n",
       "      <td>14</td>\n",
       "    </tr>\n",
       "    <tr>\n",
       "      <th>5</th>\n",
       "      <td>2015-02-11 14:51:59</td>\n",
       "      <td>0.667464</td>\n",
       "      <td>0.643126</td>\n",
       "      <td>0.282820</td>\n",
       "      <td>0.366961</td>\n",
       "      <td>0.619737</td>\n",
       "      <td>1</td>\n",
       "      <td>2</td>\n",
       "      <td>14</td>\n",
       "    </tr>\n",
       "  </tbody>\n",
       "</table>\n",
       "</div>"
      ],
      "text/plain": [
       "                 date  temperature  humidity     light       co2  \\\n",
       "1 2015-02-11 14:48:00     0.660287  0.643126  0.282820  0.381814   \n",
       "2 2015-02-11 14:49:00     0.667464  0.637166  0.282820  0.363454   \n",
       "3 2015-02-11 14:50:00     0.662081  0.642642  0.280664  0.365774   \n",
       "4 2015-02-11 14:51:00     0.662081  0.642642  0.283897  0.369333   \n",
       "5 2015-02-11 14:51:59     0.667464  0.643126  0.282820  0.366961   \n",
       "\n",
       "   humidityratio  occupancy  week_day  hour  \n",
       "1       0.617295          1         2    14  \n",
       "2       0.614025          1         2    14  \n",
       "3       0.617441          1         2    14  \n",
       "4       0.617441          1         2    14  \n",
       "5       0.619737          1         2    14  "
      ]
     },
     "execution_count": 23,
     "metadata": {},
     "output_type": "execute_result"
    }
   ],
   "source": [
    "df2_test.head()"
   ]
  },
  {
   "cell_type": "code",
   "execution_count": 13,
   "id": "5042179d",
   "metadata": {},
   "outputs": [],
   "source": [
    "df2_train_ = df2_train.copy()"
   ]
  },
  {
   "cell_type": "code",
   "execution_count": 24,
   "id": "4c2ad11a",
   "metadata": {},
   "outputs": [],
   "source": [
    "# Separate majority and minority classes\n",
    "df2_train_mayority = df2_train[df2_train['occupancy'] == 0]\n",
    "df2_train_minority = df2_train[df2_train['occupancy'] == 1] #minority_class"
   ]
  },
  {
   "cell_type": "code",
   "execution_count": 25,
   "id": "40af0da3",
   "metadata": {},
   "outputs": [
    {
     "data": {
      "text/plain": [
       "1729"
      ]
     },
     "execution_count": 25,
     "metadata": {},
     "output_type": "execute_result"
    }
   ],
   "source": [
    "len(df2_train_minority)"
   ]
  },
  {
   "cell_type": "code",
   "execution_count": 26,
   "id": "c1765c90",
   "metadata": {},
   "outputs": [],
   "source": [
    "from sklearn.utils import resample\n",
    "df2_train_mayority_downsampled = resample(df2_train_mayority, \n",
    "                                 replace = False,     # sample without replacement\n",
    "                                 n_samples = 1729)    # to match minority class"
   ]
  },
  {
   "cell_type": "code",
   "execution_count": 27,
   "id": "631eea97",
   "metadata": {},
   "outputs": [],
   "source": [
    "# Combine minority class with downsampled majority class\n",
    "new_df2_train = pd.concat([df2_train_mayority_downsampled, df2_train_minority])"
   ]
  },
  {
   "cell_type": "code",
   "execution_count": 49,
   "id": "28474b91",
   "metadata": {},
   "outputs": [
    {
     "data": {
      "text/plain": [
       "Text(0.5, 1.0, 'Distribución de los estados de ocupación')"
      ]
     },
     "execution_count": 49,
     "metadata": {},
     "output_type": "execute_result"
    },
    {
     "data": {
      "image/png": "[encoded data removed]",
      "text/plain": [
       "<Figure size 320x400 with 1 Axes>"
      ]
     },
     "metadata": {},
     "output_type": "display_data"
    }
   ],
   "source": [
    "sns.set_style('whitegrid', {'axes.grid' : False})\n",
    "ax = sns.catplot(x = 'occupancy', data=new_df2_train, kind = 'count', height = 4, aspect=0.8)\n",
    "ax.set_axis_labels('Estado de ocupación', 'Cantidad de registros')\n",
    "plt.title('Distribución de los estados de ocupación', fontdict = {'fontsize':12})"
   ]
  },
  {
   "cell_type": "markdown",
   "id": "2bec62e8",
   "metadata": {},
   "source": [
    "Separamos las variables predictoras (X) y de respuesta (Y) de cada conjunto de datos"
   ]
  },
  {
   "cell_type": "code",
   "execution_count": 46,
   "id": "2e872e5d",
   "metadata": {},
   "outputs": [
    {
     "data": {
      "text/plain": [
       "6414"
      ]
     },
     "execution_count": 46,
     "metadata": {},
     "output_type": "execute_result"
    }
   ],
   "source": [
    "len(df2_train_mayority)"
   ]
  },
  {
   "cell_type": "code",
   "execution_count": 48,
   "id": "61cf760a",
   "metadata": {},
   "outputs": [],
   "source": [
    "\n",
    "df2_train_minority_upsampled = resample(df2_train_minority, \n",
    "                                 replace=True,      # sample with replacement\n",
    "                                 n_samples=6414) \n",
    "new_df2_train = pd.concat([df2_train_minority_upsampled, df2_train_mayority])"
   ]
  },
  {
   "cell_type": "code",
   "execution_count": null,
   "id": "dea15b12",
   "metadata": {},
   "outputs": [],
   "source": []
  },
  {
   "cell_type": "code",
   "execution_count": null,
   "id": "435eaabc",
   "metadata": {},
   "outputs": [],
   "source": []
  },
  {
   "cell_type": "code",
   "execution_count": 50,
   "id": "822afa9e",
   "metadata": {},
   "outputs": [],
   "source": [
    "X2_train = new_df2_train.drop(['occupancy', 'date'], axis=1).to_numpy()\n",
    "y2_train = new_df2_train['occupancy'].to_numpy()\n",
    "X2_test = df2_test.drop(['occupancy', 'date'], axis=1).to_numpy()\n",
    "y2_test = df2_test['occupancy'].to_numpy()\n",
    "X2_validation = df2_validation.drop(['occupancy', 'date'], axis=1).to_numpy()\n",
    "y2_validation = df2_validation['occupancy'].to_numpy()"
   ]
  },
  {
   "cell_type": "code",
   "execution_count": 51,
   "id": "fa257944",
   "metadata": {},
   "outputs": [
    {
     "data": {
      "text/html": [
       "<div>\n",
       "<style scoped>\n",
       "    .dataframe tbody tr th:only-of-type {\n",
       "        vertical-align: middle;\n",
       "    }\n",
       "\n",
       "    .dataframe tbody tr th {\n",
       "        vertical-align: top;\n",
       "    }\n",
       "\n",
       "    .dataframe thead th {\n",
       "        text-align: right;\n",
       "    }\n",
       "</style>\n",
       "<table border=\"1\" class=\"dataframe\">\n",
       "  <thead>\n",
       "    <tr style=\"text-align: right;\">\n",
       "      <th></th>\n",
       "      <th>date</th>\n",
       "      <th>temperature</th>\n",
       "      <th>humidity</th>\n",
       "      <th>light</th>\n",
       "      <th>co2</th>\n",
       "      <th>humidityratio</th>\n",
       "      <th>occupancy</th>\n",
       "      <th>week_day</th>\n",
       "      <th>hour</th>\n",
       "    </tr>\n",
       "  </thead>\n",
       "  <tbody>\n",
       "    <tr>\n",
       "      <th>1139</th>\n",
       "      <td>2015-02-05 12:49:00</td>\n",
       "      <td>0.861244</td>\n",
       "      <td>0.436026</td>\n",
       "      <td>0.345980</td>\n",
       "      <td>0.392130</td>\n",
       "      <td>0.478772</td>\n",
       "      <td>1</td>\n",
       "      <td>3</td>\n",
       "      <td>12</td>\n",
       "    </tr>\n",
       "    <tr>\n",
       "      <th>6837</th>\n",
       "      <td>2015-02-09 11:47:00</td>\n",
       "      <td>0.571770</td>\n",
       "      <td>0.739971</td>\n",
       "      <td>0.304915</td>\n",
       "      <td>0.637320</td>\n",
       "      <td>0.678087</td>\n",
       "      <td>1</td>\n",
       "      <td>0</td>\n",
       "      <td>11</td>\n",
       "    </tr>\n",
       "    <tr>\n",
       "      <th>1259</th>\n",
       "      <td>2015-02-05 14:49:00</td>\n",
       "      <td>0.787081</td>\n",
       "      <td>0.518270</td>\n",
       "      <td>0.349537</td>\n",
       "      <td>0.394708</td>\n",
       "      <td>0.537695</td>\n",
       "      <td>1</td>\n",
       "      <td>3</td>\n",
       "      <td>14</td>\n",
       "    </tr>\n",
       "    <tr>\n",
       "      <th>1098</th>\n",
       "      <td>2015-02-05 12:08:00</td>\n",
       "      <td>0.765550</td>\n",
       "      <td>0.455917</td>\n",
       "      <td>0.316232</td>\n",
       "      <td>0.421321</td>\n",
       "      <td>0.469673</td>\n",
       "      <td>1</td>\n",
       "      <td>3</td>\n",
       "      <td>12</td>\n",
       "    </tr>\n",
       "    <tr>\n",
       "      <th>6717</th>\n",
       "      <td>2015-02-09 09:47:00</td>\n",
       "      <td>0.358852</td>\n",
       "      <td>0.648117</td>\n",
       "      <td>0.284544</td>\n",
       "      <td>0.343494</td>\n",
       "      <td>0.522644</td>\n",
       "      <td>1</td>\n",
       "      <td>0</td>\n",
       "      <td>9</td>\n",
       "    </tr>\n",
       "  </tbody>\n",
       "</table>\n",
       "</div>"
      ],
      "text/plain": [
       "                    date  temperature  humidity     light       co2  \\\n",
       "1139 2015-02-05 12:49:00     0.861244  0.436026  0.345980  0.392130   \n",
       "6837 2015-02-09 11:47:00     0.571770  0.739971  0.304915  0.637320   \n",
       "1259 2015-02-05 14:49:00     0.787081  0.518270  0.349537  0.394708   \n",
       "1098 2015-02-05 12:08:00     0.765550  0.455917  0.316232  0.421321   \n",
       "6717 2015-02-09 09:47:00     0.358852  0.648117  0.284544  0.343494   \n",
       "\n",
       "      humidityratio  occupancy  week_day  hour  \n",
       "1139       0.478772          1         3    12  \n",
       "6837       0.678087          1         0    11  \n",
       "1259       0.537695          1         3    14  \n",
       "1098       0.469673          1         3    12  \n",
       "6717       0.522644          1         0     9  "
      ]
     },
     "execution_count": 51,
     "metadata": {},
     "output_type": "execute_result"
    }
   ],
   "source": [
    "new_df2_train.head()"
   ]
  },
  {
   "cell_type": "code",
   "execution_count": 52,
   "id": "d8ac93d8",
   "metadata": {},
   "outputs": [
    {
     "data": {
      "text/plain": [
       "array([[ 0.86124402,  0.43602637,  0.34597974, ...,  0.4787717 ,\n",
       "         3.        , 12.        ],\n",
       "       [ 0.57177033,  0.73997095,  0.30491485, ...,  0.67808749,\n",
       "         0.        , 11.        ],\n",
       "       [ 0.78708134,  0.5182702 ,  0.34953654, ...,  0.53769518,\n",
       "         3.        , 14.        ],\n",
       "       ...,\n",
       "       [ 0.3145933 ,  0.73550117,  0.15003233, ...,  0.58504631,\n",
       "         1.        ,  8.        ],\n",
       "       [ 0.3145933 ,  0.74198234,  0.27549041, ...,  0.59071793,\n",
       "         1.        ,  8.        ],\n",
       "       [ 0.3245614 ,  0.74444072,  0.27096357, ...,  0.59623712,\n",
       "         1.        ,  8.        ]])"
      ]
     },
     "execution_count": 52,
     "metadata": {},
     "output_type": "execute_result"
    }
   ],
   "source": [
    "X2_train"
   ]
  },
  {
   "cell_type": "code",
   "execution_count": null,
   "id": "e79d949c",
   "metadata": {},
   "outputs": [],
   "source": []
  },
  {
   "cell_type": "code",
   "execution_count": null,
   "id": "061b0cb0",
   "metadata": {},
   "outputs": [],
   "source": []
  },
  {
   "cell_type": "code",
   "execution_count": null,
   "id": "9717bcd3",
   "metadata": {},
   "outputs": [],
   "source": [
    "X2_train = df2_train.drop(['occupancy', 'date'], axis=1).to_numpy()\n",
    "y2_train = df2_train['occupancy'].to_numpy()\n",
    "X2_test = df2_test.drop(['occupancy', 'date'], axis=1).to_numpy()\n",
    "y2_test = df2_test['occupancy'].to_numpy()\n",
    "X2_validation = df2_validation.drop(['occupancy', 'date'], axis=1).to_numpy()\n",
    "y2_validation = df2_validation['occupancy'].to_numpy()"
   ]
  },
  {
   "cell_type": "code",
   "execution_count": null,
   "id": "f0af4e78",
   "metadata": {},
   "outputs": [],
   "source": []
  },
  {
   "cell_type": "code",
   "execution_count": null,
   "id": "049c8e19",
   "metadata": {},
   "outputs": [],
   "source": []
  },
  {
   "cell_type": "code",
   "execution_count": null,
   "id": "646e8cef",
   "metadata": {},
   "outputs": [],
   "source": []
  },
  {
   "cell_type": "code",
   "execution_count": null,
   "id": "403e0922",
   "metadata": {},
   "outputs": [],
   "source": []
  },
  {
   "cell_type": "code",
   "execution_count": null,
   "id": "8911377d",
   "metadata": {},
   "outputs": [],
   "source": [
    "df2_train['period_of_day'] = [1 if (i.hour >= 7 and i.hour <= 17) else 0 for i in df2_train['date']]\n",
    "df2_validation['period_of_day'] = [1 if (i.hour >= 7 and i.hour <= 17) else 0 for i in df2_validation['date']]\n",
    "df2_test['period_of_day'] = [1 if (i.hour >= 7 and i.hour <= 17) else 0 for i in df2_test['date']]"
   ]
  },
  {
   "cell_type": "code",
   "execution_count": null,
   "id": "4f50666c",
   "metadata": {},
   "outputs": [],
   "source": [
    "df2_train['week_day'] = df2_train['date'].dt.weekday \n",
    "df2_validation['week_day'] = df2_validation['date'].dt.weekday \n",
    "df2_test['week_day'] = df2_test['date'].dt.weekday "
   ]
  },
  {
   "cell_type": "code",
   "execution_count": null,
   "id": "7e638244",
   "metadata": {},
   "outputs": [],
   "source": [
    "df2_train.head()"
   ]
  },
  {
   "cell_type": "code",
   "execution_count": null,
   "id": "78ef0889",
   "metadata": {},
   "outputs": [],
   "source": [
    "df2_train[7359:7365]"
   ]
  },
  {
   "cell_type": "code",
   "execution_count": null,
   "id": "d218cb1c",
   "metadata": {},
   "outputs": [],
   "source": [
    "X2_train = df2_train.drop(['occupancy', 'date'], axis=1).to_numpy()\n",
    "y2_train = df2_train['occupancy'].to_numpy()\n",
    "X2_test = df2_test.drop(['occupancy', 'date'], axis=1).to_numpy()\n",
    "y2_test = df2_test['occupancy'].to_numpy()\n",
    "X2_validation = df2_validation.drop(['occupancy', 'date'], axis=1).to_numpy()\n",
    "y2_validation = df2_validation['occupancy'].to_numpy()"
   ]
  },
  {
   "cell_type": "code",
   "execution_count": null,
   "id": "b9255fc4",
   "metadata": {},
   "outputs": [],
   "source": [
    "X2_train"
   ]
  },
  {
   "cell_type": "markdown",
   "id": "ab6ce779",
   "metadata": {},
   "source": [
    "### Preguntas 1 - 3"
   ]
  },
  {
   "cell_type": "markdown",
   "id": "b22d4b51",
   "metadata": {},
   "source": [
    "#### 1. Especificar cual es el problema de aprendizaje de maquina que se esta resolviendo. "
   ]
  },
  {
   "cell_type": "markdown",
   "id": "5c0a387d",
   "metadata": {},
   "source": [
    "#### 2. Proporcionar un breve resumen de las variables y las etiquetas en las que se está trabajando."
   ]
  },
  {
   "cell_type": "markdown",
   "id": "513bb6f4",
   "metadata": {},
   "source": [
    "##### Occupancy Detection Data Set\n",
    "Este conjunto de datos contiene datos experimentales de mediciones de luz, temperatura, humedad y CO2 para detectar la ocupación de una sala de oficina; es importante determinar de forma precisa la ocupación de un edificio/sala/oficina porque se ha estimado que puede ahorra energía en el orden del 30 al 42%.\n",
    "\n",
    "A continuación se muestran las variables que componen el conjunto de datos: \n",
    "- date: Momento en el que se tomó la imagen.\n",
    "- temperature: Temperatura del cuarto medida en grados Celcius\n",
    "- Relative Humidity: Humedad relativa la cual es medida en porcentaje.\n",
    "- Light: Iluminación en lux, es la cantidad de luz que pasa a través de una superficie y es medido Lux.\n",
    "- Occupancy: Ocupación, 0 ó 1, 0 es el estado NO ocupado y 1 es el estado ocupado.\n",
    "\n",
    "\n",
    "\n",
    "\n",
    "El CO2 parece tener una lectura máxima matutina justo después de las 11:00.\n",
    "Otra característica interesante del gráfico es que las curvas de CO2 y humedad muestran un patrón muy similar, especialmente para la humedad\n",
    "relación y el CO2. Cuando la habitación no está ocupada alrededor de las 13:00\n",
    "y 13:30, el sensor de luz registra una caída significativa en la luz\n",
    "medición (luces apagadas), también el CO2, la humedad y la temperatura\n",
    "los sensores registran una pequeña caída en sus lecturas. Cuando la habitación está\n",
    "dejado vacío después de las 18:00 todos los sensores muestran una tendencia a la baja, pero\n",
    "la caída más dramática es la medición de la luz. El día siguiente\n",
    "alrededor de las 7:30 de la mañana cuando la habitación es ocupada nuevamente por\n",
    "la primera persona, todas las lecturas de los sensores comienzan a aumentar notablemente.\n",
    "\n",
    "La determinación precisa de la detección de ocupación en edificios\n",
    "se ha estimado recientemente que ahorra energía en el orden del 30 al 42%\n",
    "[1–3]. Las mediciones experimentales informaron que el ahorro de energía\n",
    "fue del 37% en [4] y entre el 29% y el 80% [5] cuando los datos de ocupación\n",
    "se utilizó como entrada para los algoritmos de control de HVAC. En la actualidad, con\n",
    "la asequibilidad de los sensores aumenta y se vuelve más omnipresente, junto con un poder de cómputo asequible para la automatización\n",
    "hace que la determinación de la ocupación sea un enfoque muy prometedor para reducir el consumo de energía mediante un control adecuado\n",
    "de HVAC y sistemas de iluminación en edificios. Otras aplicaciones para\n",
    "la detección de ocupación incluye la seguridad y la determinación de los comportamientos de los ocupantes del edificio. Un sistema que podría detectar con precisión la\n",
    "La presencia de los ocupantes sin usar una cámara es muy interesante por cuestiones de privacidad.\n",
    "Esta investigación ha utilizado datos registrados de luz, temperatura,\n",
    "sensores de humedad y CO2 como un medio para detectar la ocupación y un\n",
    "cámara digital para establecer la ocupación del terreno para el entrenamiento del modelo de clasificación supervisada. C\n",
    "\n",
    "\n",
    "\n",
    "date time year-month-day hour:minute:second\n",
    "Temperature, in Celsius\n",
    "Relative Humidity, %\n",
    "Light, in Lux\n",
    "CO2, in ppm\n",
    "Humidity Ratio, Derived quantity from temperature and relative humidity, in kgwater-vapor/kg-air\n",
    "Occupancy, 0 or 1, 0 for not occupied, 1 for occupied status"
   ]
  },
  {
   "cell_type": "markdown",
   "id": "b7c3b54e",
   "metadata": {},
   "source": [
    "#### 3a. ¿Son estos conjuntos de datos linealmente separables?"
   ]
  },
  {
   "cell_type": "markdown",
   "id": "b6dc24bd",
   "metadata": {},
   "source": [
    "Si un conjunto de datos es linealmente separable existira al menos un hiperplano que separa el conjunto de datos a la clases a la que pertenece, formalmente se debe resolver la siguiente ecuación. \n",
    "$$\n",
    "h(\\mathbf{x})=\\operatorname{sign}\\left(\\mathbf{w}^{\\mathrm{T}} \\mathbf{x}\\right).\n",
    "$$\n",
    "\n",
    "Para resolverla podemos usar el algoritmo de aprendizaje de perceptrón (perceptron learning algorithm - PLA), el algoritmo tiene como objetivo encontrar un vector que tome la decisión correcta $\\mathbf{w}$ que hace que $h\\left(\\mathbf{x}_n\\right)=y_n$ para todo el conjunto de datos de entrenamiento.\n",
    "\n",
    "El algoritmo encontrará este $\\mathbf{w}$ usando un método iterativo simple. Así es como funciona: En la iteración $t$, donde $t=0,1,2, \\ldots$, hay un valor actual del vector de peso $\\mathbf{w}(t)$, el algoritmo elige un ejemplo (llamemoslo $(\\mathbf{ x}(t), y(t))$) que pertene al conjunto de datos $\\left(\\mathbf{x}_1, y_1\\right) \\cdots\\left(\\mathbf{x}_N, y_N\\right)$ y que actualmente está mal clasificado y lo usa para actualizar $\\mathbf{w}(t)$. Dado que el ejemplo está mal clasificado vamos a tener que $y(t) \\neq$ $\\operatorname{sign}\\left(\\mathbf{w}^{\\mathrm{T}} \\mathbf{x}\\right)$. \n",
    "\n",
    "Asi la regla para actualizar $\\mathbf{w}(t)$ es\n",
    "$$\n",
    "\\mathbf{w}(t+1)=\\mathbf{w}(t)+y(t) \\mathbf{x}(t)\n",
    "$$\n",
    "\n",
    "Esta regla mueve el hiperplano de separación en la dirección correcta para clasificar $\\mathbf{x}(t)$. El algoritmo continúa con más iteraciones hasta que ya no existan ejemplos mal clasificados en el conjunto de datos.\n",
    "\n",
    "A continuación se muestra la aplicación del algoritmo de aprendizaje de perceptrón"
   ]
  },
  {
   "cell_type": "code",
   "execution_count": 53,
   "id": "84b65ffa",
   "metadata": {},
   "outputs": [
    {
     "name": "stdout",
     "output_type": "stream",
     "text": [
      "Calificación PLA primer data set:  98.26\n",
      "Calificación PLA segundo data set:  98.89\n"
     ]
    }
   ],
   "source": [
    "pla1 = Perceptron(tol = 1e-3, random_state = 42)\n",
    "pla1.fit(X1_train, y1_train)\n",
    "pla2 = Perceptron(tol = 1e-3, random_state = 42)\n",
    "pla2.fit(X2_train, y2_train)\n",
    "\n",
    "print('Calificación PLA primer data set: ', round(pla1.score(X1_train, y1_train)*100, 2))\n",
    "print('Calificación PLA segundo data set: ', round(pla2.score(X2_train, y2_train)*100, 2))"
   ]
  },
  {
   "cell_type": "markdown",
   "id": "85bd8f0b",
   "metadata": {},
   "source": [
    "Como podemos ver para ambos casos el algoritmo predice en un 98% las clases a las que pertenece cada uno de los conjuntos de datos, por lo que podemos concluir que efectivamente ambos datasets son linealmente separables. "
   ]
  },
  {
   "cell_type": "markdown",
   "id": "bf2d3bce",
   "metadata": {},
   "source": [
    "#### 3b. ¿Se eligieron los conjuntos de datos al azar?"
   ]
  },
  {
   "cell_type": "code",
   "execution_count": null,
   "id": "b2bea676",
   "metadata": {},
   "outputs": [],
   "source": [
    "import seaborn as sns\n",
    "import matplotlib.pyplot as plt\n",
    "\n",
    "sns.set_style('whitegrid', {'axes.grid' : False})\n",
    "ax = sns.catplot(x = 'occupancy', data=df2_train, kind = 'count', height = 4, aspect=0.8)\n",
    "ax.set_axis_labels('Estado de ocupación', 'Cantidad de registros')\n",
    "plt.title('Distribución de los estados de ocupación', fontdict = {'fontsize':12})"
   ]
  },
  {
   "cell_type": "markdown",
   "id": "155d41c5",
   "metadata": {},
   "source": [
    "#### 3c. ¿Es el tamaño de la muestra lo suficientemente grande para garantizar generalización?"
   ]
  },
  {
   "cell_type": "markdown",
   "id": "7c4177ae",
   "metadata": {},
   "source": [
    "La generalización es el problema clave en el aprendizaje. Se puede definir el error de generalización como la discrepancia\n",
    "entre $E_{\\text {in }}$ y $E_{\\text {out }}$·\n",
    "\n",
    "El error $E_{\\text {out }}$ mide qué tan bien el proceso de entrenamiento ha generalizado a datos que no hemos visto antes, si queremos estimar el valor de $E_{\\text {out }}$ usando una muestra de puntos de datos, estos puntos deben ser nuevos puntos que no se hayan usado para entrenamiento. El error $E_{\\text {in}}$, por el contrario, se basa en puntos de datos que se han utilizado para el entrenamiento. Mide expresamente el rendimiento del proceso de entrenamiento.\n",
    "\n",
    "Se puede definir el error de generalización como la discrepancia entre $E_{\\text {in }}$ y $E_{\\text {out }}$. La Desigualdad de Hoeffding proporciona una manera de caracterizar el error de generalización con un límite probabilístico,\n",
    "\n",
    "$$\n",
    "\\mathbb{P}\\left[\\left|E_{\\text {in }}(g)-E_{\\text {out }}(g)\\right|>\\epsilon\\right] \\leq 2 M e^{-2 \\epsilon^2 N}\n",
    "$$\n",
    "\n",
    "Para cualquier $\\epsilon>0$. Esto se puede reformular de la siguiente manera, elegimos un nivel de tolerancia $\\delta$, por\n",
    "ejemplo $\\delta=0.05$ y buscamos con probabilidad de al menos $1 -\\delta$ que\n",
    "$$\n",
    "E_{\\text {out }}(g) \\leq E_{\\mathrm{in}}(g)+\\sqrt{\\frac{1}{2 N} \\ln \\frac{2 M}{\\delta}} .\n",
    "$$\n",
    "donde \n",
    "\n",
    "- N: número de muestras del conjunto de entrenamiento\n",
    "- m: número de muestras del conjunto de prueba\n",
    "\n",
    "Nos referimos al tipo de desigualdad anterior como un límite de generalización porque limita $E_{\\text {out }}$ en términos de $E_{\\text {in }}$.\n",
    "Para ver que la Desigualdad de Hoeffding implica este límite de generalización, reescribimos la ecuación de la siguiente manera: con probabilidad de al menos $1 -\\delta$,\n",
    "\n",
    "$$\n",
    "\\epsilon=\\sqrt{\\frac{1}{2 N} \\ln \\frac{2 M}{\\delta}}$$\n",
    "\n",
    "en donde $\\left|E_{\\text {out }} - E_{\\text {in }}\\right| \\leq \\epsilon$ esto implica que $E_{\\text {out}} \\leq E_{\\text {in}}+\\epsilon$. \n",
    "\n",
    "Sacando N de la ecuación se tiene que, \n",
    "\n",
    "$$\n",
    "\\sqrt{\\frac{1}{2 N} \\ln \\frac{2 M}{\\delta}} \\leq \\epsilon \\Leftrightarrow N \\geq \\frac{1}{2 \\epsilon^2} \\ln \\frac{2 M}{\\delta}\n",
    "$$\n",
    "\n",
    "\n",
    "Para los datasets que tenemos vamos a tomar un nivel de tolerancia $\\delta = 0.05$ y $\\epsilon = 0.05$"
   ]
  },
  {
   "cell_type": "code",
   "execution_count": 54,
   "id": "cf95ede3",
   "metadata": {},
   "outputs": [
    {
     "name": "stdout",
     "output_type": "stream",
     "text": [
      "muestras conjunto de entrenamiento 1: 919\n",
      "muestras conjunto de prueba 1: 453\n",
      "muestras conjunto de entrenamiento 2: 12828\n",
      "muestras conjunto de prueba 2: 9752\n"
     ]
    }
   ],
   "source": [
    "print('muestras conjunto de entrenamiento 1:', len(X1_train))\n",
    "print('muestras conjunto de prueba 1:', len(X1_test))\n",
    "print('muestras conjunto de entrenamiento 2:', len(X2_train))\n",
    "print('muestras conjunto de prueba 2:', len(X2_test))"
   ]
  },
  {
   "cell_type": "code",
   "execution_count": 55,
   "id": "4b32905e",
   "metadata": {},
   "outputs": [
    {
     "name": "stdout",
     "output_type": "stream",
     "text": [
      "muestras necesarias en el conjunto de entrenamiento 1 para garantizar generalización 1960.9543159193938\n",
      "muestras necesarias en el conjunto de entrenamiento 2 para garantizar generalización 2574.8214250550086\n"
     ]
    }
   ],
   "source": [
    "M1 = len(X1_test)\n",
    "M2 = len(X2_test)\n",
    "epsilon = 0.05\n",
    "delta = 0.05\n",
    "\n",
    "N1 = (1/(2*epsilon**2))*np.log((2*M1)/delta)\n",
    "N2 = (1/(2*epsilon**2))*np.log((2*M2)/delta)\n",
    "print('muestras necesarias en el conjunto de entrenamiento 1 para garantizar generalización', N1)\n",
    "print('muestras necesarias en el conjunto de entrenamiento 2 para garantizar generalización', N2)"
   ]
  },
  {
   "cell_type": "markdown",
   "id": "4f85db03",
   "metadata": {},
   "source": [
    "De lo anterior notamos que con el tamaño actual del primer conjunto de datos no podemos garantizar generalización con una probabilidad del 95%; sin embargo con el segundo conjunto de datos si lo podemos hacer."
   ]
  },
  {
   "cell_type": "markdown",
   "id": "635c3ee9",
   "metadata": {},
   "source": [
    "#### 4. Proporcione una explicación de cómo y por qué funciona el código. Puede agregar comentarios y/o explicaciones formales en el notebook."
   ]
  },
  {
   "cell_type": "code",
   "execution_count": 56,
   "id": "f54fa41e",
   "metadata": {},
   "outputs": [],
   "source": [
    "# svm.py\n",
    "class SVM:\n",
    "\n",
    "    def __init__(self, C = 1.0):  # Función de inicialización\n",
    "        # C = error term\n",
    "\n",
    "        self.C = C\n",
    "        self.w = 0\n",
    "        self.b = 0\n",
    "        \n",
    "    # Esta función inicializa la clase SVM con un parámetro C, que representa el término de error. \n",
    "    # Además, se inicializan los atributos w y b en cero.\n",
    "        \n",
    "    \n",
    "    def hingeloss(self, w, b, x, y): # Función para calcular la función de perdida \n",
    "        # Regularizer term\n",
    "        reg = 0.5 * (w * w) # Primero calculamos el valor del termino del regularizador (variable reg)\n",
    "\n",
    "        for i in range(x.shape[0]): # Iteramos sobre el numero de muestras \n",
    "            # Optimization term\n",
    "            opt_term = y[i] * ((np.dot(w, x[i])) + b) # Calculamos el termino a optimizar\n",
    "\n",
    "            # calculating loss\n",
    "            loss = reg + self.C * max(0, 1-opt_term) # Finalmente calculamos la función de perdida \n",
    "        return loss[0][0]\n",
    "    \n",
    "    \n",
    "    def fit(self, X, Y, batch_size=100, learning_rate=0.001, epochs=1000):\n",
    "        # Dentro de esta función vamos a correr el algoritmo de gradiente descendente para obtener los \n",
    "        # mejores parametros w y b.\n",
    "        # Esta función busca reducir la perdida en cada iteración y encontrar los parámetros w y b\n",
    "        \n",
    "        # Cantidad de parámetros de X\n",
    "        number_of_features = X.shape[1]\n",
    "\n",
    "        # Cantidad de muestras en X\n",
    "        number_of_samples = X.shape[0]\n",
    "\n",
    "        c = self.C\n",
    "\n",
    "        # Creamos ids desde 0 hasta el número de muestras de X - 1 \n",
    "        ids = np.arange(number_of_samples)\n",
    "\n",
    "        # Mezclamos las muestras aleatoriamente \n",
    "        np.random.shuffle(ids) \n",
    "\n",
    "        # Construcción de un vector de ceros\n",
    "        w = np.zeros((1, number_of_features))\n",
    "        b = 0\n",
    "        losses = []\n",
    "\n",
    "        # La logica del algoritmo gradiente descedente\n",
    "        for i in range(epochs):\n",
    "            # Calculamos la función de perdida con la función construida arriga hingeloss\n",
    "            l = self.hingeloss(w, b, X, Y)\n",
    "\n",
    "            # Unimos todas las perdidas\n",
    "            losses.append(l)\n",
    "            \n",
    "            # Empezando desde cero hasta llegar al numero de myestras con el tamaño de bache como intervalo\n",
    "            for batch_initial in range(0, number_of_samples, batch_size):\n",
    "                gradw = 0\n",
    "                gradb = 0\n",
    "\n",
    "                for j in range(batch_initial, batch_initial + batch_size):\n",
    "                    if j < number_of_samples:\n",
    "                        x = ids[j]\n",
    "                        ti = Y[x] * (np.dot(w, X[x].T) + b)\n",
    "\n",
    "                        if ti > 1:\n",
    "                            gradw += 0\n",
    "                            gradb += 0\n",
    "                        else:\n",
    "                            # Calculamos los gradientes\n",
    "\n",
    "                            #w.r.t w \n",
    "                            gradw += c * Y[x] * X[x]\n",
    "                            # w.r.t b\n",
    "                            gradb += c * Y[x]\n",
    "\n",
    "                # Se actualizan los terminos de pesos y bias \n",
    "                w = w - learning_rate * w + learning_rate * gradw\n",
    "                b = b + learning_rate * gradb\n",
    "        \n",
    "        self.w = w\n",
    "        self.b = b\n",
    "        \n",
    "        # Los pesos (w) y el sesgo (b) se actualizan en cada iteración utilizando los gradientes y la tasa de\n",
    "        # aprendizaje, lo que da como resultado la minimización de la pérdida. Cuando se encuentran los parámetros\n",
    "        # óptimos, el método simplemente los devuelve junto con las pérdidas.\n",
    "\n",
    "        return self.w, self.b, losses\n",
    "    \n",
    "    def predict(self, X):\n",
    "        # Con los parametros obtenidos en la función fit calculamos a que clase pertene la muestra\n",
    "        \n",
    "        prediction = np.dot(X, self.w[0]) + self.b # w.x + b\n",
    "        return np.sign(prediction)"
   ]
  },
  {
   "cell_type": "code",
   "execution_count": 69,
   "id": "6312c5b7",
   "metadata": {},
   "outputs": [],
   "source": [
    "class SVM1:\n",
    "\n",
    "    def __init__(self, learning_rate=0.001, lambda_param=0.01, n_iters=1000):\n",
    "        self.lr = learning_rate\n",
    "        self.lambda_param = lambda_param\n",
    "        self.n_iters = n_iters\n",
    "        self.w = None\n",
    "        self.b = None\n",
    "\n",
    "\n",
    "    def fit(self, X, y):\n",
    "        n_samples, n_features = X.shape\n",
    "\n",
    "        y_ = np.where(y <= 0, -1, 1)\n",
    "\n",
    "        self.w = np.zeros(n_features)\n",
    "        self.b = 0\n",
    "\n",
    "        for _ in range(self.n_iters):\n",
    "            for idx, x_i in enumerate(X):\n",
    "                condition = y_[idx] * (np.dot(x_i, self.w) - self.b) >= 1\n",
    "                if condition:\n",
    "                    self.w -= self.lr * (2 * self.lambda_param * self.w)\n",
    "                else:\n",
    "                    self.w -= self.lr * (2 * self.lambda_param * self.w - np.dot(x_i, y_[idx]))\n",
    "                    self.b -= self.lr * y_[idx]\n",
    "\n",
    "\n",
    "    def predict(self, X):\n",
    "        approx = np.dot(X, self.w) - self.b\n",
    "        return np.sign(approx)"
   ]
  },
  {
   "cell_type": "markdown",
   "id": "d3b18789",
   "metadata": {},
   "source": [
    "#### 5. Muestre algunos ejemplos para ilustrar que el método está funcionando correctamente."
   ]
  },
  {
   "cell_type": "markdown",
   "id": "d61ec381",
   "metadata": {},
   "source": [
    "Después de obtener los resultados del punto anterior se va a realizar el ejemplo con el segundo dataset Occupancy Detection ya que existe una probabilidad del 95% de que el tamaño del conjunto de datos es suficiente para generalizar. "
   ]
  },
  {
   "cell_type": "markdown",
   "id": "bf34b9f3",
   "metadata": {},
   "source": [
    "#### 6. Proporcionar evidencia cuantitativa para la generalización utilizando el conjunto de datos proporcionado."
   ]
  },
  {
   "cell_type": "markdown",
   "id": "bdc89f8d",
   "metadata": {},
   "source": [
    "A nivel cuantitativo veo que hay generalización si al fijarme en que el accuray obtenido con el conjunto de datos de prueba es similar al que se obtuvo durante entrenamiento, esto porque si el modelo esta generalizando esto significa que para nuevos datos es capaz de predecir de la misma forma como lo hizo con los datos de entrenamiento y que no simplemente se aprendio los datos de memoria, si el modelo se esta aprende de memoria los datos entonces la precisión del modelo con los datos de prueba debe bajar significatemente. "
   ]
  },
  {
   "cell_type": "code",
   "execution_count": 70,
   "id": "db4a3723",
   "metadata": {},
   "outputs": [
    {
     "data": {
      "text/plain": [
       "12828"
      ]
     },
     "execution_count": 70,
     "metadata": {},
     "output_type": "execute_result"
    }
   ],
   "source": [
    "len(y2_train)"
   ]
  },
  {
   "cell_type": "code",
   "execution_count": 71,
   "id": "7c4a05f9",
   "metadata": {},
   "outputs": [],
   "source": [
    "clf = SVM1()\n",
    "clf.fit(X2_train, y2_train)"
   ]
  },
  {
   "cell_type": "code",
   "execution_count": 72,
   "id": "7d139122",
   "metadata": {},
   "outputs": [],
   "source": [
    "prediction1 = clf.predict(X2_validation)\n",
    "prediction2 = clf.predict(X2_test)\n",
    "prediction3 = clf.predict(X2_train)"
   ]
  },
  {
   "cell_type": "code",
   "execution_count": 62,
   "id": "e6d911f6",
   "metadata": {},
   "outputs": [
    {
     "name": "stdout",
     "output_type": "stream",
     "text": [
      "CPU times: total: 0 ns\n",
      "Wall time: 0 ns\n"
     ]
    },
    {
     "ename": "TypeError",
     "evalue": "cannot unpack non-iterable NoneType object",
     "output_type": "error",
     "traceback": [
      "\u001b[1;31m---------------------------------------------------------------------------\u001b[0m",
      "\u001b[1;31mTypeError\u001b[0m                                 Traceback (most recent call last)",
      "Cell \u001b[1;32mIn [62], line 4\u001b[0m\n\u001b[0;32m      1\u001b[0m get_ipython()\u001b[38;5;241m.\u001b[39mrun_line_magic(\u001b[38;5;124m'\u001b[39m\u001b[38;5;124mtime\u001b[39m\u001b[38;5;124m'\u001b[39m, \u001b[38;5;124m'\u001b[39m\u001b[38;5;124m'\u001b[39m)\n\u001b[0;32m      2\u001b[0m svm \u001b[38;5;241m=\u001b[39m SVM()\n\u001b[1;32m----> 4\u001b[0m w, b, losses \u001b[38;5;241m=\u001b[39m svm\u001b[38;5;241m.\u001b[39mfit(X2_train, y2_train)\n\u001b[0;32m      5\u001b[0m prediction1 \u001b[38;5;241m=\u001b[39m svm\u001b[38;5;241m.\u001b[39mpredict(X2_validation)\n\u001b[0;32m      6\u001b[0m prediction2 \u001b[38;5;241m=\u001b[39m svm\u001b[38;5;241m.\u001b[39mpredict(X2_test)\n",
      "\u001b[1;31mTypeError\u001b[0m: cannot unpack non-iterable NoneType object"
     ]
    }
   ],
   "source": [
    "%time\n",
    "svm = SVM()\n",
    "\n",
    "w, b, losses = svm.fit(X2_train, y2_train)\n",
    "prediction1 = svm.predict(X2_validation)\n",
    "prediction2 = svm.predict(X2_test)\n",
    "\n",
    "# Valor de perdida\n",
    "lss = losses.pop()\n",
    "\n",
    "#print(\"Loss:\", lss)\n",
    "#print(\"Prediction:\", prediction2)\n",
    "#print(\"Accuracies:\", accuracy_score(prediction1, y2_validation), accuracy_score(prediction2, y2_test) )\n",
    "#print(\"w, b:\", [w, b])"
   ]
  },
  {
   "cell_type": "code",
   "execution_count": 74,
   "id": "3eed0cdb",
   "metadata": {},
   "outputs": [
    {
     "data": {
      "text/plain": [
       "array([-1., -1., -1., ..., -1., -1., -1.])"
      ]
     },
     "execution_count": 74,
     "metadata": {},
     "output_type": "execute_result"
    }
   ],
   "source": [
    "prediction3"
   ]
  },
  {
   "cell_type": "code",
   "execution_count": 75,
   "id": "1f167ab4",
   "metadata": {},
   "outputs": [
    {
     "data": {
      "text/plain": [
       "array([1, 1, 1, ..., 0, 0, 0], dtype=int64)"
      ]
     },
     "execution_count": 75,
     "metadata": {},
     "output_type": "execute_result"
    }
   ],
   "source": [
    "y2_train"
   ]
  },
  {
   "cell_type": "code",
   "execution_count": 73,
   "id": "9051740a",
   "metadata": {
    "scrolled": true
   },
   "outputs": [
    {
     "data": {
      "image/png": "[encoded data removed]",
      "text/plain": [
       "<Figure size 640x480 with 2 Axes>"
      ]
     },
     "metadata": {},
     "output_type": "display_data"
    }
   ],
   "source": [
    "plt.title(\"SVM Confusion Matrix for Validation Data\", fontdict={'fontsize':18})\n",
    "ax = sns.heatmap(confusion_matrix(y2_train, prediction3), annot=True, fmt=\"d\")"
   ]
  },
  {
   "cell_type": "code",
   "execution_count": null,
   "id": "2ba610ed",
   "metadata": {},
   "outputs": [],
   "source": []
  },
  {
   "cell_type": "code",
   "execution_count": 68,
   "id": "73319ac4",
   "metadata": {},
   "outputs": [
    {
     "name": "stdout",
     "output_type": "stream",
     "text": [
      "Accuracies: 0.0 0.0\n"
     ]
    }
   ],
   "source": [
    "print(\"Accuracies:\", accuracy_score(y2_validation, prediction1), accuracy_score(y2_test, prediction2))"
   ]
  },
  {
   "cell_type": "code",
   "execution_count": 43,
   "id": "a72f2382",
   "metadata": {},
   "outputs": [],
   "source": [
    "from sklearn.metrics import confusion_matrix"
   ]
  },
  {
   "cell_type": "code",
   "execution_count": 44,
   "id": "cbd6f1b5",
   "metadata": {},
   "outputs": [
    {
     "data": {
      "image/png": "[encoded data removed]",
      "text/plain": [
       "<Figure size 640x480 with 2 Axes>"
      ]
     },
     "metadata": {},
     "output_type": "display_data"
    }
   ],
   "source": [
    "plt.title(\"SVM Confusion Matrix for Validation Data\", fontdict={'fontsize':18})\n",
    "ax = sns.heatmap(confusion_matrix(y2_validation, prediction1), annot=True, fmt=\"d\")"
   ]
  },
  {
   "cell_type": "code",
   "execution_count": 45,
   "id": "e56e24f3",
   "metadata": {},
   "outputs": [
    {
     "data": {
      "image/png": "[encoded data removed]",
      "text/plain": [
       "<Figure size 640x480 with 2 Axes>"
      ]
     },
     "metadata": {},
     "output_type": "display_data"
    }
   ],
   "source": [
    "plt.title(\"SVM Confusion Matrix for Test Data\", fontdict={'fontsize':18})\n",
    "ax = sns.heatmap(confusion_matrix(y2_test, prediction2), annot=True, fmt=\"d\")"
   ]
  },
  {
   "cell_type": "code",
   "execution_count": null,
   "id": "b970eace",
   "metadata": {},
   "outputs": [],
   "source": [
    "from sklearn.svm import SVC\n",
    "svm_model = SVC()\n",
    "svm_model.fit(X2_train, y2_train)\n",
    "print(\"Accuracy for SVM on validation data: {}%\".format(round((svm_model.score(X2_validation, y2_validation)*100),2)))"
   ]
  },
  {
   "cell_type": "code",
   "execution_count": null,
   "id": "9c6f7c6e",
   "metadata": {},
   "outputs": [],
   "source": [
    "y_pred = svm_model.predict(X2_validation)\n",
    "plt.title(\"SVM Confusion Matrix for Validation Data\", fontdict={'fontsize':18})\n",
    "ax = sns.heatmap(confusion_matrix(y2_validation, y_pred), annot=True, fmt=\"d\")"
   ]
  },
  {
   "cell_type": "code",
   "execution_count": null,
   "id": "da4f7ee7",
   "metadata": {},
   "outputs": [],
   "source": []
  },
  {
   "cell_type": "code",
   "execution_count": null,
   "id": "f6e646a3",
   "metadata": {},
   "outputs": [],
   "source": []
  },
  {
   "cell_type": "code",
   "execution_count": null,
   "id": "8bdb3bb0",
   "metadata": {},
   "outputs": [],
   "source": []
  },
  {
   "cell_type": "markdown",
   "id": "e3d6a964",
   "metadata": {},
   "source": [
    "# NOTAS ADICIONALES"
   ]
  },
  {
   "cell_type": "markdown",
   "id": "03621e8a",
   "metadata": {},
   "source": [
    "Revisamos si en el conjunto de datos las clases (estado de ocupación) estan balanceadas"
   ]
  },
  {
   "cell_type": "code",
   "execution_count": 14,
   "id": "6f7d99ff",
   "metadata": {},
   "outputs": [
    {
     "data": {
      "text/plain": [
       "Text(0.5, 1.0, 'Distribución de los estados de ocupación')"
      ]
     },
     "execution_count": 14,
     "metadata": {},
     "output_type": "execute_result"
    },
    {
     "data": {
      "image/png": "[encoded data removed]",
      "text/plain": [
       "<Figure size 320x400 with 1 Axes>"
      ]
     },
     "metadata": {},
     "output_type": "display_data"
    }
   ],
   "source": [
    "import seaborn as sns\n",
    "import matplotlib.pyplot as plt\n",
    "\n",
    "sns.set_style('whitegrid', {'axes.grid' : False})\n",
    "ax = sns.catplot(x = 'occupancy', data=df2_train, kind = 'count', height = 4, aspect=0.8)\n",
    "ax.set_axis_labels('Estado de ocupación', 'Cantidad de registros')\n",
    "plt.title('Distribución de los estados de ocupación', fontdict = {'fontsize':12})"
   ]
  },
  {
   "cell_type": "code",
   "execution_count": null,
   "id": "436dda03",
   "metadata": {},
   "outputs": [],
   "source": []
  }
 ],
 "metadata": {
  "kernelspec": {
   "display_name": "Python 3 (ipykernel)",
   "language": "python",
   "name": "python3"
  },
  "language_info": {
   "codemirror_mode": {
    "name": "ipython",
    "version": 3
   },
   "file_extension": ".py",
   "mimetype": "text/x-python",
   "name": "python",
   "nbconvert_exporter": "python",
   "pygments_lexer": "ipython3",
   "version": "3.11.0"
  }
 },
 "nbformat": 4,
 "nbformat_minor": 5
}
